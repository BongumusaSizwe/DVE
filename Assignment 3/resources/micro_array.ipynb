{
 "cells": [
  {
   "cell_type": "code",
   "execution_count": null,
   "id": "b748f472-fa5b-4c19-a6d7-54b7b4118622",
   "metadata": {},
   "outputs": [],
   "source": [
    "import pandas as pd\n",
    "import numpy as np\n",
    "import matplotlib.pyplot as plt\n",
    "%matplotlib inline\n",
    "from scipy.stats import norm\n",
    "\n",
    "# Install ipympl and uncomment this for interactive plots \n",
    "# %matplotlib widget\n",
    "import minisom\n",
    "from umap import UMAP\n",
    "\n",
    "from sklearn.cluster import KMeans, SpectralClustering\n",
    "from sklearn.manifold import LocallyLinearEmbedding\n",
    "from sklearn import manifold, neighbors\n",
    "from sklearn.metrics.cluster import normalized_mutual_info_score, adjusted_mutual_info_score, adjusted_rand_score\n",
    "from sklearn.metrics import classification_report\n",
    "\n",
    "random_state = 42"
   ]
  },
  {
   "cell_type": "code",
   "execution_count": null,
   "id": "d893f531-8620-4904-bc9a-0bb4e7d9d829",
   "metadata": {},
   "outputs": [],
   "source": [
    "   \n",
    "def plot_clusters(data, labels):\n",
    "    palette = sns.color_palette('deep', np.unique(labels).max() + 1)\n",
    "    colors = [palette[x] if x >= 0 else (0.0, 0.0, 0.0) for x in labels]\n",
    "    plt.scatter(data.T[0], data.T[1], c=y) # colors,) # **plot_kwds)\n",
    "    frame = plt.gca()\n",
    "    frame.axes.get_xaxis().set_visible(False)\n",
    "    frame.axes.get_yaxis().set_visible(False)\n",
    "\n"
   ]
  },
  {
   "cell_type": "code",
   "execution_count": null,
   "id": "b25bb1e6-e4d3-4aa4-8ccf-e11812a39aa2",
   "metadata": {},
   "outputs": [],
   "source": [
    "df = pd.read_csv('14cancer.xtrain', delim_whitespace=True, names=[f'sample {i}' for i in range(1, 145)])\n",
    "dftest = pd.read_csv('14cancer.xtest', delim_whitespace=True, names=[f'sample {i}' for i in range(1, 55)])\n",
    "df = df.T.reset_index().drop(columns='index').copy()\n",
    "dftest = dftest.T.reset_index().drop(columns='index').copy()\n",
    "\n",
    "labels = [int(x) for x in open('14cancer.ytrain').readline().split()]\n",
    "df_labels = pd.DataFrame({'label': labels})\n",
    "labelstest = [int(x) for x in open('14cancer.ytest').readline().split()]\n",
    "df_labels_test = pd.DataFrame({'label': labelstest})\n",
    "\n",
    "label_names = {\n",
    "    1: 'breast',\n",
    "    2:  'prostate',\n",
    "    3:  'lung',\n",
    "    4:  'collerectal',\n",
    "    5:  'lymphoma',\n",
    "    6:  'bladder',\n",
    "    7:  'melanoma',\n",
    "    8:  'uterus',\n",
    "    9: 'leukemia',\n",
    "    10: 'renal',\n",
    "    11: 'pancreas',\n",
    "    12: 'ovary',\n",
    "    13: 'meso',\n",
    "    14: 'cns'\n",
    "}"
   ]
  },
  {
   "cell_type": "code",
   "execution_count": null,
   "id": "38b1ae10-c741-4912-b4fd-85b17c4a2a5a",
   "metadata": {},
   "outputs": [],
   "source": [
    "def plot_2d(X, labels, title):\n",
    "    plt.figure()\n",
    "    plt.scatter(X[:, 0], X[:, 1], c=labels, cmap=plt.cm.jet)\n",
    "    plt.xlabel('coefficient 1')\n",
    "    plt.ylabel('coefficient 2')\n",
    "    plt.title(title)"
   ]
  },
  {
   "cell_type": "code",
   "execution_count": null,
   "id": "f5dba9b9-268f-44a8-aeaa-a486df06f3d1",
   "metadata": {},
   "outputs": [],
   "source": [
    "n_features = IMPLEMENT_ME\n",
    "som_shape = (IMPLEMENT_ME, IMPLEMENT_ME)\n",
    "train = np.array(df)\n",
    "test = np.array(dftest)\n",
    "\n",
    "som = minisom.MiniSom(som_shape[0], som_shape[1], n_features, sigma=IMPLEMENT_ME, learning_rate=IMPLEMENT_ME,)\n",
    "\n",
    "# this can make results more stable, but it also takes a long time to process\n",
    "# som.pca_weights_init(data)\n",
    "\n",
    "som.train(IMPLEMENT_ME, IMPLEMENT_ME)"
   ]
  },
  {
   "cell_type": "code",
   "execution_count": null,
   "id": "4dbfde57",
   "metadata": {},
   "outputs": [],
   "source": [
    "# Plot a 3d projection of the som weights\n",
    "# (the map is som_shape[0] X som_shape[1] and each point on the map has an associated weight)\n",
    "\n",
    "IMPLEMENT_ME"
   ]
  },
  {
   "cell_type": "code",
   "execution_count": null,
   "id": "6abc21eb-5761-4924-ba81-a843dd5ffe7c",
   "metadata": {},
   "outputs": [],
   "source": [
    "def classify(som, x, y):\n",
    "    \"\"\"Classifies each sample in data in one of the classes definited\n",
    "    using the method labels_map.\n",
    "    Returns a list of the same length of data where the i-th element\n",
    "    is the class assigned to data[i].\n",
    "    \"\"\"\n",
    "    winmap = som.labels_map(x, y)\n",
    "    default_class = np.sum(list(winmap.values())).most_common()[0][0]\n",
    "    result = []\n",
    "    for d in x:\n",
    "        win_position = som.winner(d)\n",
    "        if win_position in winmap:\n",
    "            result.append(winmap[win_position].most_common()[0][0])\n",
    "        else:\n",
    "            result.append(default_class)\n",
    "    return result\n",
    "\n",
    "\n",
    "pred = classify(som, test, df_labels_test.label)\n",
    "\n",
    "\n",
    "print(adjusted_mutual_info_score(df_labels_test.label, pred))\n",
    "print(classification_report(df_labels_test.label, pred))"
   ]
  },
  {
   "cell_type": "code",
   "execution_count": null,
   "id": "9ae72dc1",
   "metadata": {
    "tags": []
   },
   "outputs": [],
   "source": [
    "\n",
    "# Plot the distance_map from the som to get the U-Matrix (NxN).  Choose a suitable cmap when plotting.\n",
    "IMPLEMENT_ME\n",
    "\n",
    "\n",
    "# different colors and markers for each label\n",
    "markers = ['o', 's', 'D', '.', ',', '<', '>', '^', '1', '2', '3', '4', 's', 'p', 'P', '*']\n",
    "colors = ['blueviolet', 'brown', 'burlywood', 'cadetblue', 'chartreuse', 'chocolate', 'coral', 'cornflowerblue', \n",
    "          'cornsilk', 'crimson', 'cyan', 'darkblue', 'darkcyan', 'darkgoldenrod', 'darkgray', 'darkgreen', 'darkgrey', ]\n",
    "\n",
    "\n",
    "# Plot the winner (som.winner(x)) for every datapoint x on its node on the U-Matrix plot above.  Choose a different colour for each class.\n",
    "# this should look something like the seeds_clusters.png plot\n",
    "IMPLEMENT_ME"
   ]
  },
  {
   "cell_type": "markdown",
   "id": "3a03f589-69f3-4137-bd5a-3e35b7b5121f",
   "metadata": {},
   "source": [
    "### LLE"
   ]
  },
  {
   "cell_type": "code",
   "execution_count": null,
   "id": "5e139a48-b45c-4fad-a55d-7eb1ed211a16",
   "metadata": {},
   "outputs": [],
   "source": [
    "\n",
    "lle = LocallyLinearEmbedding(n_components=IMPLEMENT_ME, n_neighbors=IMPLEMENT_ME, method='modified', eigen_solver='dense', random_state=random_state)\n",
    "\n",
    "LLE_PROJECTION = IMPLEMENT_ME\n",
    "\n",
    "\n",
    "plot_2d(LE_PROJECTION, df_labels.label, 'LLE projection of data: original labels')\n",
    "\n",
    "km = KMeans(init='k-means++', n_clusters=14)\n",
    "\n",
    "km.fit(LLE_PROJECTION)\n",
    "\n",
    "plot_2d(LLE_PROJECTION, km.labels_, 'LLE projection of data: k-means labels')\n",
    "\n",
    "print(adjusted_mutual_info_score(df_labels.label, km.labels_))\n"
   ]
  },
  {
   "cell_type": "markdown",
   "id": "bf307d4e-f2ba-4e69-889d-09b5956d51f5",
   "metadata": {},
   "source": [
    "### UMAP"
   ]
  },
  {
   "cell_type": "code",
   "execution_count": null,
   "id": "5053f61f-5376-4d82-9737-9c151c28e0bf",
   "metadata": {},
   "outputs": [],
   "source": [
    "umap_obj = UMAP(\n",
    "    n_components=IMPLEMENT_ME,\n",
    "    metric = \"euclidean\",\n",
    "    n_neighbors=IMPLEMENT_ME, \n",
    "    min_dist=IMPLEMENT_ME,\n",
    "    random_state=random_state)\n",
    "\n",
    "UMAP_PROJECTION = IMPLEMENT_ME\n",
    "\n",
    "plot_2d(UMAP_PROJECTION, df_labels.label, 'UMAP projection of Spectra')\n",
    "\n",
    "km = KMeans(init='k-means++', n_clusters=14)\n",
    "km.fit(UMAP_PROJECTION)\n",
    "\n",
    "plot_2d(UMAP_PROJECTION, km.labels_, 'UMAP projection of Spectra: cluster labels')\n",
    "\n",
    "print(adjusted_mutual_info_score(df_labels.label, km.labels_))\n"
   ]
  }
 ],
 "metadata": {
  "kernelspec": {
   "display_name": "Python 3 (ipykernel)",
   "language": "python",
   "name": "python3"
  },
  "language_info": {
   "codemirror_mode": {
    "name": "ipython",
    "version": 3
   },
   "file_extension": ".py",
   "mimetype": "text/x-python",
   "name": "python",
   "nbconvert_exporter": "python",
   "pygments_lexer": "ipython3",
   "version": "3.8.12"
  }
 },
 "nbformat": 4,
 "nbformat_minor": 5
}
