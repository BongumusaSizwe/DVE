{
 "cells": [
  {
   "cell_type": "markdown",
   "metadata": {},
   "source": [
    "**Group Members:**\n",
    "\n",
    " _ |Names | Student Number\n",
    "---|---|---\n",
    "1| Bongumusa Mavuso | 1682836\n",
    "2| Thabo Rachidi | 1632496\n",
    "3| Thobelani Makeleni | 1199116\n",
    "4| Siyabonga Hlomuka | 1384685\n",
    "\n"
   ]
  }
 ],
 "metadata": {
  "kernelspec": {
   "display_name": "Python 3",
   "language": "python",
   "name": "python3"
  },
  "language_info": {
   "codemirror_mode": {
    "name": "ipython",
    "version": 3
   },
   "file_extension": ".py",
   "mimetype": "text/x-python",
   "name": "python",
   "nbconvert_exporter": "python",
   "pygments_lexer": "ipython3",
   "version": "3.8.10"
  }
 },
 "nbformat": 4,
 "nbformat_minor": 4
}
