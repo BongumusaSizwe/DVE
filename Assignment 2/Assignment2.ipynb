{
 "cells": [
  {
   "cell_type": "code",
   "execution_count": 1,
   "id": "f1f557c2",
   "metadata": {},
   "outputs": [],
   "source": [
    "import pandas as pd\n",
    "import seaborn as sns\n",
    "import numpy as np\n",
    "sns.set_theme(style=\"white\")\n",
    "\n",
    "import scipy.cluster.hierarchy as shc\n",
    "import matplotlib.pyplot as plt\n",
    "%matplotlib inline\n",
    "import math\n",
    "from scipy import stats\n",
    "\n",
    "from pandas.tseries.holiday import USFederalHolidayCalendar as calendar\n"
   ]
  },
  {
   "cell_type": "code",
   "execution_count": 2,
   "id": "fb5741b6",
   "metadata": {},
   "outputs": [],
   "source": [
    "df = pd.read_csv('nyc_taxis.csv', delimiter=',', header=0, index_col=0)"
   ]
  },
  {
   "cell_type": "code",
   "execution_count": 3,
   "id": "fc148491",
   "metadata": {},
   "outputs": [
    {
     "data": {
      "text/html": [
       "<div>\n",
       "<style scoped>\n",
       "    .dataframe tbody tr th:only-of-type {\n",
       "        vertical-align: middle;\n",
       "    }\n",
       "\n",
       "    .dataframe tbody tr th {\n",
       "        vertical-align: top;\n",
       "    }\n",
       "\n",
       "    .dataframe thead th {\n",
       "        text-align: right;\n",
       "    }\n",
       "</style>\n",
       "<table border=\"1\" class=\"dataframe\">\n",
       "  <thead>\n",
       "    <tr style=\"text-align: right;\">\n",
       "      <th></th>\n",
       "      <th>vendor_id</th>\n",
       "      <th>pickup_datetime</th>\n",
       "      <th>dropoff_datetime</th>\n",
       "      <th>passenger_count</th>\n",
       "      <th>pickup_longitude</th>\n",
       "      <th>pickup_latitude</th>\n",
       "      <th>dropoff_longitude</th>\n",
       "      <th>dropoff_latitude</th>\n",
       "      <th>store_and_fwd_flag</th>\n",
       "      <th>trip_duration</th>\n",
       "    </tr>\n",
       "    <tr>\n",
       "      <th>id</th>\n",
       "      <th></th>\n",
       "      <th></th>\n",
       "      <th></th>\n",
       "      <th></th>\n",
       "      <th></th>\n",
       "      <th></th>\n",
       "      <th></th>\n",
       "      <th></th>\n",
       "      <th></th>\n",
       "      <th></th>\n",
       "    </tr>\n",
       "  </thead>\n",
       "  <tbody>\n",
       "    <tr>\n",
       "      <th>id2875421</th>\n",
       "      <td>2</td>\n",
       "      <td>2016-03-14 17:24:55</td>\n",
       "      <td>2016-03-14 17:32:30</td>\n",
       "      <td>1</td>\n",
       "      <td>-73.982155</td>\n",
       "      <td>40.767937</td>\n",
       "      <td>-73.964630</td>\n",
       "      <td>40.765602</td>\n",
       "      <td>N</td>\n",
       "      <td>455</td>\n",
       "    </tr>\n",
       "    <tr>\n",
       "      <th>id2377394</th>\n",
       "      <td>1</td>\n",
       "      <td>2016-06-12 00:43:35</td>\n",
       "      <td>2016-06-12 00:54:38</td>\n",
       "      <td>1</td>\n",
       "      <td>-73.980415</td>\n",
       "      <td>40.738564</td>\n",
       "      <td>-73.999481</td>\n",
       "      <td>40.731152</td>\n",
       "      <td>N</td>\n",
       "      <td>663</td>\n",
       "    </tr>\n",
       "    <tr>\n",
       "      <th>id3858529</th>\n",
       "      <td>2</td>\n",
       "      <td>2016-01-19 11:35:24</td>\n",
       "      <td>2016-01-19 12:10:48</td>\n",
       "      <td>1</td>\n",
       "      <td>-73.979027</td>\n",
       "      <td>40.763939</td>\n",
       "      <td>-74.005333</td>\n",
       "      <td>40.710087</td>\n",
       "      <td>N</td>\n",
       "      <td>2124</td>\n",
       "    </tr>\n",
       "    <tr>\n",
       "      <th>id3504673</th>\n",
       "      <td>2</td>\n",
       "      <td>2016-04-06 19:32:31</td>\n",
       "      <td>2016-04-06 19:39:40</td>\n",
       "      <td>1</td>\n",
       "      <td>-74.010040</td>\n",
       "      <td>40.719971</td>\n",
       "      <td>-74.012268</td>\n",
       "      <td>40.706718</td>\n",
       "      <td>N</td>\n",
       "      <td>429</td>\n",
       "    </tr>\n",
       "    <tr>\n",
       "      <th>id2181028</th>\n",
       "      <td>2</td>\n",
       "      <td>2016-03-26 13:30:55</td>\n",
       "      <td>2016-03-26 13:38:10</td>\n",
       "      <td>1</td>\n",
       "      <td>-73.973053</td>\n",
       "      <td>40.793209</td>\n",
       "      <td>-73.972923</td>\n",
       "      <td>40.782520</td>\n",
       "      <td>N</td>\n",
       "      <td>435</td>\n",
       "    </tr>\n",
       "  </tbody>\n",
       "</table>\n",
       "</div>"
      ],
      "text/plain": [
       "           vendor_id      pickup_datetime     dropoff_datetime  \\\n",
       "id                                                               \n",
       "id2875421          2  2016-03-14 17:24:55  2016-03-14 17:32:30   \n",
       "id2377394          1  2016-06-12 00:43:35  2016-06-12 00:54:38   \n",
       "id3858529          2  2016-01-19 11:35:24  2016-01-19 12:10:48   \n",
       "id3504673          2  2016-04-06 19:32:31  2016-04-06 19:39:40   \n",
       "id2181028          2  2016-03-26 13:30:55  2016-03-26 13:38:10   \n",
       "\n",
       "           passenger_count  pickup_longitude  pickup_latitude  \\\n",
       "id                                                              \n",
       "id2875421                1        -73.982155        40.767937   \n",
       "id2377394                1        -73.980415        40.738564   \n",
       "id3858529                1        -73.979027        40.763939   \n",
       "id3504673                1        -74.010040        40.719971   \n",
       "id2181028                1        -73.973053        40.793209   \n",
       "\n",
       "           dropoff_longitude  dropoff_latitude store_and_fwd_flag  \\\n",
       "id                                                                  \n",
       "id2875421         -73.964630         40.765602                  N   \n",
       "id2377394         -73.999481         40.731152                  N   \n",
       "id3858529         -74.005333         40.710087                  N   \n",
       "id3504673         -74.012268         40.706718                  N   \n",
       "id2181028         -73.972923         40.782520                  N   \n",
       "\n",
       "           trip_duration  \n",
       "id                        \n",
       "id2875421            455  \n",
       "id2377394            663  \n",
       "id3858529           2124  \n",
       "id3504673            429  \n",
       "id2181028            435  "
      ]
     },
     "execution_count": 3,
     "metadata": {},
     "output_type": "execute_result"
    }
   ],
   "source": [
    "df.head()"
   ]
  },
  {
   "cell_type": "code",
   "execution_count": 4,
   "id": "9dd67d82",
   "metadata": {},
   "outputs": [
    {
     "name": "stdout",
     "output_type": "stream",
     "text": [
      "<class 'pandas.core.frame.DataFrame'>\n",
      "Index: 1458644 entries, id2875421 to id1209952\n",
      "Data columns (total 10 columns):\n",
      " #   Column              Non-Null Count    Dtype  \n",
      "---  ------              --------------    -----  \n",
      " 0   vendor_id           1458644 non-null  int64  \n",
      " 1   pickup_datetime     1458644 non-null  object \n",
      " 2   dropoff_datetime    1458644 non-null  object \n",
      " 3   passenger_count     1458644 non-null  int64  \n",
      " 4   pickup_longitude    1458644 non-null  float64\n",
      " 5   pickup_latitude     1458644 non-null  float64\n",
      " 6   dropoff_longitude   1458644 non-null  float64\n",
      " 7   dropoff_latitude    1458644 non-null  float64\n",
      " 8   store_and_fwd_flag  1458644 non-null  object \n",
      " 9   trip_duration       1458644 non-null  int64  \n",
      "dtypes: float64(4), int64(3), object(3)\n",
      "memory usage: 122.4+ MB\n"
     ]
    }
   ],
   "source": [
    "df.info()"
   ]
  },
  {
   "cell_type": "markdown",
   "id": "5ae973b8",
   "metadata": {},
   "source": [
    "# Qusetion1.2"
   ]
  },
  {
   "cell_type": "code",
   "execution_count": 5,
   "id": "88ad8a24",
   "metadata": {},
   "outputs": [],
   "source": [
    "def haversine_dist(lon1, lat1, lon2, lat2):\n",
    "    \"\"\"Calculate the great circle distance in kilometers between two points \n",
    "    on the earth (specified in decimal degrees)\n",
    "    \n",
    "    :params lon1: First point longitude in degrees\n",
    "    :params lat1: First point latitude in degrees\n",
    "    :params lon2: Second point longitude in degress\n",
    "    :params lat2: Second point latitude in degrees\n",
    "    \n",
    "    :returns distance in kilometers\n",
    "    \"\"\"\n",
    "    # Convert decimal degrees to radians \n",
    "    lon1 = np.deg2rad(lon1)\n",
    "    lat1 = np.deg2rad(lat1)\n",
    "    lon2 = np.deg2rad(lon2)\n",
    "    lat2 = np.deg2rad(lat2)\n",
    "\n",
    "    # haversine formula \n",
    "    dlon = lon2 - lon1 \n",
    "    dlat = lat2 - lat1 \n",
    "    a = np.sin(dlat/2)**2 + np.cos(lat1) * np.cos(lat2) * np.sin(dlon/2)**2\n",
    "    c = 2 * np.arcsin(np.sqrt(a))\n",
    "    r = 6371 # Radius of earth(km)\n",
    "    \n",
    "    distance = c*r\n",
    "    \n",
    "    return np.round(distance,decimals=3)"
   ]
  },
  {
   "cell_type": "code",
   "execution_count": 6,
   "id": "9b597b37",
   "metadata": {},
   "outputs": [
    {
     "data": {
      "text/html": [
       "<div>\n",
       "<style scoped>\n",
       "    .dataframe tbody tr th:only-of-type {\n",
       "        vertical-align: middle;\n",
       "    }\n",
       "\n",
       "    .dataframe tbody tr th {\n",
       "        vertical-align: top;\n",
       "    }\n",
       "\n",
       "    .dataframe thead th {\n",
       "        text-align: right;\n",
       "    }\n",
       "</style>\n",
       "<table border=\"1\" class=\"dataframe\">\n",
       "  <thead>\n",
       "    <tr style=\"text-align: right;\">\n",
       "      <th></th>\n",
       "      <th>vendor_id</th>\n",
       "      <th>pickup_datetime</th>\n",
       "      <th>dropoff_datetime</th>\n",
       "      <th>passenger_count</th>\n",
       "      <th>pickup_longitude</th>\n",
       "      <th>pickup_latitude</th>\n",
       "      <th>dropoff_longitude</th>\n",
       "      <th>dropoff_latitude</th>\n",
       "      <th>store_and_fwd_flag</th>\n",
       "      <th>trip_duration</th>\n",
       "      <th>trip_distance(km)</th>\n",
       "    </tr>\n",
       "    <tr>\n",
       "      <th>id</th>\n",
       "      <th></th>\n",
       "      <th></th>\n",
       "      <th></th>\n",
       "      <th></th>\n",
       "      <th></th>\n",
       "      <th></th>\n",
       "      <th></th>\n",
       "      <th></th>\n",
       "      <th></th>\n",
       "      <th></th>\n",
       "      <th></th>\n",
       "    </tr>\n",
       "  </thead>\n",
       "  <tbody>\n",
       "    <tr>\n",
       "      <th>id2875421</th>\n",
       "      <td>2</td>\n",
       "      <td>2016-03-14 17:24:55</td>\n",
       "      <td>2016-03-14 17:32:30</td>\n",
       "      <td>1</td>\n",
       "      <td>-73.982155</td>\n",
       "      <td>40.767937</td>\n",
       "      <td>-73.964630</td>\n",
       "      <td>40.765602</td>\n",
       "      <td>N</td>\n",
       "      <td>455</td>\n",
       "      <td>1.499</td>\n",
       "    </tr>\n",
       "    <tr>\n",
       "      <th>id2377394</th>\n",
       "      <td>1</td>\n",
       "      <td>2016-06-12 00:43:35</td>\n",
       "      <td>2016-06-12 00:54:38</td>\n",
       "      <td>1</td>\n",
       "      <td>-73.980415</td>\n",
       "      <td>40.738564</td>\n",
       "      <td>-73.999481</td>\n",
       "      <td>40.731152</td>\n",
       "      <td>N</td>\n",
       "      <td>663</td>\n",
       "      <td>1.806</td>\n",
       "    </tr>\n",
       "    <tr>\n",
       "      <th>id3858529</th>\n",
       "      <td>2</td>\n",
       "      <td>2016-01-19 11:35:24</td>\n",
       "      <td>2016-01-19 12:10:48</td>\n",
       "      <td>1</td>\n",
       "      <td>-73.979027</td>\n",
       "      <td>40.763939</td>\n",
       "      <td>-74.005333</td>\n",
       "      <td>40.710087</td>\n",
       "      <td>N</td>\n",
       "      <td>2124</td>\n",
       "      <td>6.385</td>\n",
       "    </tr>\n",
       "    <tr>\n",
       "      <th>id3504673</th>\n",
       "      <td>2</td>\n",
       "      <td>2016-04-06 19:32:31</td>\n",
       "      <td>2016-04-06 19:39:40</td>\n",
       "      <td>1</td>\n",
       "      <td>-74.010040</td>\n",
       "      <td>40.719971</td>\n",
       "      <td>-74.012268</td>\n",
       "      <td>40.706718</td>\n",
       "      <td>N</td>\n",
       "      <td>429</td>\n",
       "      <td>1.485</td>\n",
       "    </tr>\n",
       "    <tr>\n",
       "      <th>id2181028</th>\n",
       "      <td>2</td>\n",
       "      <td>2016-03-26 13:30:55</td>\n",
       "      <td>2016-03-26 13:38:10</td>\n",
       "      <td>1</td>\n",
       "      <td>-73.973053</td>\n",
       "      <td>40.793209</td>\n",
       "      <td>-73.972923</td>\n",
       "      <td>40.782520</td>\n",
       "      <td>N</td>\n",
       "      <td>435</td>\n",
       "      <td>1.189</td>\n",
       "    </tr>\n",
       "  </tbody>\n",
       "</table>\n",
       "</div>"
      ],
      "text/plain": [
       "           vendor_id      pickup_datetime     dropoff_datetime  \\\n",
       "id                                                               \n",
       "id2875421          2  2016-03-14 17:24:55  2016-03-14 17:32:30   \n",
       "id2377394          1  2016-06-12 00:43:35  2016-06-12 00:54:38   \n",
       "id3858529          2  2016-01-19 11:35:24  2016-01-19 12:10:48   \n",
       "id3504673          2  2016-04-06 19:32:31  2016-04-06 19:39:40   \n",
       "id2181028          2  2016-03-26 13:30:55  2016-03-26 13:38:10   \n",
       "\n",
       "           passenger_count  pickup_longitude  pickup_latitude  \\\n",
       "id                                                              \n",
       "id2875421                1        -73.982155        40.767937   \n",
       "id2377394                1        -73.980415        40.738564   \n",
       "id3858529                1        -73.979027        40.763939   \n",
       "id3504673                1        -74.010040        40.719971   \n",
       "id2181028                1        -73.973053        40.793209   \n",
       "\n",
       "           dropoff_longitude  dropoff_latitude store_and_fwd_flag  \\\n",
       "id                                                                  \n",
       "id2875421         -73.964630         40.765602                  N   \n",
       "id2377394         -73.999481         40.731152                  N   \n",
       "id3858529         -74.005333         40.710087                  N   \n",
       "id3504673         -74.012268         40.706718                  N   \n",
       "id2181028         -73.972923         40.782520                  N   \n",
       "\n",
       "           trip_duration  trip_distance(km)  \n",
       "id                                           \n",
       "id2875421            455              1.499  \n",
       "id2377394            663              1.806  \n",
       "id3858529           2124              6.385  \n",
       "id3504673            429              1.485  \n",
       "id2181028            435              1.189  "
      ]
     },
     "execution_count": 6,
     "metadata": {},
     "output_type": "execute_result"
    }
   ],
   "source": [
    "df['trip_distance(km)'] = haversine_dist(df['pickup_longitude'], df['pickup_latitude'], \n",
    "              df['dropoff_longitude'], df['dropoff_latitude'])\n",
    "df.head()"
   ]
  },
  {
   "cell_type": "markdown",
   "id": "383c13ce",
   "metadata": {},
   "source": [
    "## Create Average speed column"
   ]
  },
  {
   "cell_type": "code",
   "execution_count": 7,
   "id": "b2faf568",
   "metadata": {},
   "outputs": [
    {
     "data": {
      "text/html": [
       "<div>\n",
       "<style scoped>\n",
       "    .dataframe tbody tr th:only-of-type {\n",
       "        vertical-align: middle;\n",
       "    }\n",
       "\n",
       "    .dataframe tbody tr th {\n",
       "        vertical-align: top;\n",
       "    }\n",
       "\n",
       "    .dataframe thead th {\n",
       "        text-align: right;\n",
       "    }\n",
       "</style>\n",
       "<table border=\"1\" class=\"dataframe\">\n",
       "  <thead>\n",
       "    <tr style=\"text-align: right;\">\n",
       "      <th></th>\n",
       "      <th>vendor_id</th>\n",
       "      <th>pickup_datetime</th>\n",
       "      <th>dropoff_datetime</th>\n",
       "      <th>passenger_count</th>\n",
       "      <th>pickup_longitude</th>\n",
       "      <th>pickup_latitude</th>\n",
       "      <th>dropoff_longitude</th>\n",
       "      <th>dropoff_latitude</th>\n",
       "      <th>store_and_fwd_flag</th>\n",
       "      <th>trip_duration</th>\n",
       "      <th>trip_distance(km)</th>\n",
       "      <th>avg_speed(km/hr)</th>\n",
       "    </tr>\n",
       "    <tr>\n",
       "      <th>id</th>\n",
       "      <th></th>\n",
       "      <th></th>\n",
       "      <th></th>\n",
       "      <th></th>\n",
       "      <th></th>\n",
       "      <th></th>\n",
       "      <th></th>\n",
       "      <th></th>\n",
       "      <th></th>\n",
       "      <th></th>\n",
       "      <th></th>\n",
       "      <th></th>\n",
       "    </tr>\n",
       "  </thead>\n",
       "  <tbody>\n",
       "    <tr>\n",
       "      <th>id2875421</th>\n",
       "      <td>2</td>\n",
       "      <td>2016-03-14 17:24:55</td>\n",
       "      <td>2016-03-14 17:32:30</td>\n",
       "      <td>1</td>\n",
       "      <td>-73.982155</td>\n",
       "      <td>40.767937</td>\n",
       "      <td>-73.964630</td>\n",
       "      <td>40.765602</td>\n",
       "      <td>N</td>\n",
       "      <td>455</td>\n",
       "      <td>1.499</td>\n",
       "      <td>11.860220</td>\n",
       "    </tr>\n",
       "    <tr>\n",
       "      <th>id2377394</th>\n",
       "      <td>1</td>\n",
       "      <td>2016-06-12 00:43:35</td>\n",
       "      <td>2016-06-12 00:54:38</td>\n",
       "      <td>1</td>\n",
       "      <td>-73.980415</td>\n",
       "      <td>40.738564</td>\n",
       "      <td>-73.999481</td>\n",
       "      <td>40.731152</td>\n",
       "      <td>N</td>\n",
       "      <td>663</td>\n",
       "      <td>1.806</td>\n",
       "      <td>9.806335</td>\n",
       "    </tr>\n",
       "    <tr>\n",
       "      <th>id3858529</th>\n",
       "      <td>2</td>\n",
       "      <td>2016-01-19 11:35:24</td>\n",
       "      <td>2016-01-19 12:10:48</td>\n",
       "      <td>1</td>\n",
       "      <td>-73.979027</td>\n",
       "      <td>40.763939</td>\n",
       "      <td>-74.005333</td>\n",
       "      <td>40.710087</td>\n",
       "      <td>N</td>\n",
       "      <td>2124</td>\n",
       "      <td>6.385</td>\n",
       "      <td>10.822034</td>\n",
       "    </tr>\n",
       "    <tr>\n",
       "      <th>id3504673</th>\n",
       "      <td>2</td>\n",
       "      <td>2016-04-06 19:32:31</td>\n",
       "      <td>2016-04-06 19:39:40</td>\n",
       "      <td>1</td>\n",
       "      <td>-74.010040</td>\n",
       "      <td>40.719971</td>\n",
       "      <td>-74.012268</td>\n",
       "      <td>40.706718</td>\n",
       "      <td>N</td>\n",
       "      <td>429</td>\n",
       "      <td>1.485</td>\n",
       "      <td>12.461538</td>\n",
       "    </tr>\n",
       "    <tr>\n",
       "      <th>id2181028</th>\n",
       "      <td>2</td>\n",
       "      <td>2016-03-26 13:30:55</td>\n",
       "      <td>2016-03-26 13:38:10</td>\n",
       "      <td>1</td>\n",
       "      <td>-73.973053</td>\n",
       "      <td>40.793209</td>\n",
       "      <td>-73.972923</td>\n",
       "      <td>40.782520</td>\n",
       "      <td>N</td>\n",
       "      <td>435</td>\n",
       "      <td>1.189</td>\n",
       "      <td>9.840000</td>\n",
       "    </tr>\n",
       "  </tbody>\n",
       "</table>\n",
       "</div>"
      ],
      "text/plain": [
       "           vendor_id      pickup_datetime     dropoff_datetime  \\\n",
       "id                                                               \n",
       "id2875421          2  2016-03-14 17:24:55  2016-03-14 17:32:30   \n",
       "id2377394          1  2016-06-12 00:43:35  2016-06-12 00:54:38   \n",
       "id3858529          2  2016-01-19 11:35:24  2016-01-19 12:10:48   \n",
       "id3504673          2  2016-04-06 19:32:31  2016-04-06 19:39:40   \n",
       "id2181028          2  2016-03-26 13:30:55  2016-03-26 13:38:10   \n",
       "\n",
       "           passenger_count  pickup_longitude  pickup_latitude  \\\n",
       "id                                                              \n",
       "id2875421                1        -73.982155        40.767937   \n",
       "id2377394                1        -73.980415        40.738564   \n",
       "id3858529                1        -73.979027        40.763939   \n",
       "id3504673                1        -74.010040        40.719971   \n",
       "id2181028                1        -73.973053        40.793209   \n",
       "\n",
       "           dropoff_longitude  dropoff_latitude store_and_fwd_flag  \\\n",
       "id                                                                  \n",
       "id2875421         -73.964630         40.765602                  N   \n",
       "id2377394         -73.999481         40.731152                  N   \n",
       "id3858529         -74.005333         40.710087                  N   \n",
       "id3504673         -74.012268         40.706718                  N   \n",
       "id2181028         -73.972923         40.782520                  N   \n",
       "\n",
       "           trip_duration  trip_distance(km)  avg_speed(km/hr)  \n",
       "id                                                             \n",
       "id2875421            455              1.499         11.860220  \n",
       "id2377394            663              1.806          9.806335  \n",
       "id3858529           2124              6.385         10.822034  \n",
       "id3504673            429              1.485         12.461538  \n",
       "id2181028            435              1.189          9.840000  "
      ]
     },
     "execution_count": 7,
     "metadata": {},
     "output_type": "execute_result"
    }
   ],
   "source": [
    "df['avg_speed(km/hr)'] = df['trip_distance(km)']/(df['trip_duration'].apply(lambda x: x/3600))\n",
    "df.head()"
   ]
  },
  {
   "cell_type": "markdown",
   "id": "8e7f5ad1",
   "metadata": {},
   "source": [
    "## Create date columns"
   ]
  },
  {
   "cell_type": "code",
   "execution_count": 8,
   "id": "8b2315fa",
   "metadata": {},
   "outputs": [],
   "source": [
    "# Year\n",
    "df['trip_year'] = pd.to_datetime(df['pickup_datetime']).dt.year\n",
    "\n",
    "# Month\n",
    "df['trip_month'] = pd.to_datetime(df['pickup_datetime']).dt.month\n",
    "\n",
    "# Day_of_week\n",
    "df['trip_weekday'] = pd.to_datetime(df['pickup_datetime']).dt.weekday"
   ]
  },
  {
   "cell_type": "code",
   "execution_count": 9,
   "id": "a7589c81",
   "metadata": {},
   "outputs": [
    {
     "data": {
      "text/html": [
       "<div>\n",
       "<style scoped>\n",
       "    .dataframe tbody tr th:only-of-type {\n",
       "        vertical-align: middle;\n",
       "    }\n",
       "\n",
       "    .dataframe tbody tr th {\n",
       "        vertical-align: top;\n",
       "    }\n",
       "\n",
       "    .dataframe thead th {\n",
       "        text-align: right;\n",
       "    }\n",
       "</style>\n",
       "<table border=\"1\" class=\"dataframe\">\n",
       "  <thead>\n",
       "    <tr style=\"text-align: right;\">\n",
       "      <th></th>\n",
       "      <th>vendor_id</th>\n",
       "      <th>pickup_datetime</th>\n",
       "      <th>dropoff_datetime</th>\n",
       "      <th>passenger_count</th>\n",
       "      <th>pickup_longitude</th>\n",
       "      <th>pickup_latitude</th>\n",
       "      <th>dropoff_longitude</th>\n",
       "      <th>dropoff_latitude</th>\n",
       "      <th>store_and_fwd_flag</th>\n",
       "      <th>trip_duration</th>\n",
       "      <th>trip_distance(km)</th>\n",
       "      <th>avg_speed(km/hr)</th>\n",
       "      <th>trip_year</th>\n",
       "      <th>trip_month</th>\n",
       "      <th>trip_weekday</th>\n",
       "    </tr>\n",
       "    <tr>\n",
       "      <th>id</th>\n",
       "      <th></th>\n",
       "      <th></th>\n",
       "      <th></th>\n",
       "      <th></th>\n",
       "      <th></th>\n",
       "      <th></th>\n",
       "      <th></th>\n",
       "      <th></th>\n",
       "      <th></th>\n",
       "      <th></th>\n",
       "      <th></th>\n",
       "      <th></th>\n",
       "      <th></th>\n",
       "      <th></th>\n",
       "      <th></th>\n",
       "    </tr>\n",
       "  </thead>\n",
       "  <tbody>\n",
       "    <tr>\n",
       "      <th>id2875421</th>\n",
       "      <td>2</td>\n",
       "      <td>2016-03-14 17:24:55</td>\n",
       "      <td>2016-03-14 17:32:30</td>\n",
       "      <td>1</td>\n",
       "      <td>-73.982155</td>\n",
       "      <td>40.767937</td>\n",
       "      <td>-73.964630</td>\n",
       "      <td>40.765602</td>\n",
       "      <td>N</td>\n",
       "      <td>455</td>\n",
       "      <td>1.499</td>\n",
       "      <td>11.860220</td>\n",
       "      <td>2016</td>\n",
       "      <td>3</td>\n",
       "      <td>0</td>\n",
       "    </tr>\n",
       "    <tr>\n",
       "      <th>id2377394</th>\n",
       "      <td>1</td>\n",
       "      <td>2016-06-12 00:43:35</td>\n",
       "      <td>2016-06-12 00:54:38</td>\n",
       "      <td>1</td>\n",
       "      <td>-73.980415</td>\n",
       "      <td>40.738564</td>\n",
       "      <td>-73.999481</td>\n",
       "      <td>40.731152</td>\n",
       "      <td>N</td>\n",
       "      <td>663</td>\n",
       "      <td>1.806</td>\n",
       "      <td>9.806335</td>\n",
       "      <td>2016</td>\n",
       "      <td>6</td>\n",
       "      <td>6</td>\n",
       "    </tr>\n",
       "    <tr>\n",
       "      <th>id3858529</th>\n",
       "      <td>2</td>\n",
       "      <td>2016-01-19 11:35:24</td>\n",
       "      <td>2016-01-19 12:10:48</td>\n",
       "      <td>1</td>\n",
       "      <td>-73.979027</td>\n",
       "      <td>40.763939</td>\n",
       "      <td>-74.005333</td>\n",
       "      <td>40.710087</td>\n",
       "      <td>N</td>\n",
       "      <td>2124</td>\n",
       "      <td>6.385</td>\n",
       "      <td>10.822034</td>\n",
       "      <td>2016</td>\n",
       "      <td>1</td>\n",
       "      <td>1</td>\n",
       "    </tr>\n",
       "    <tr>\n",
       "      <th>id3504673</th>\n",
       "      <td>2</td>\n",
       "      <td>2016-04-06 19:32:31</td>\n",
       "      <td>2016-04-06 19:39:40</td>\n",
       "      <td>1</td>\n",
       "      <td>-74.010040</td>\n",
       "      <td>40.719971</td>\n",
       "      <td>-74.012268</td>\n",
       "      <td>40.706718</td>\n",
       "      <td>N</td>\n",
       "      <td>429</td>\n",
       "      <td>1.485</td>\n",
       "      <td>12.461538</td>\n",
       "      <td>2016</td>\n",
       "      <td>4</td>\n",
       "      <td>2</td>\n",
       "    </tr>\n",
       "    <tr>\n",
       "      <th>id2181028</th>\n",
       "      <td>2</td>\n",
       "      <td>2016-03-26 13:30:55</td>\n",
       "      <td>2016-03-26 13:38:10</td>\n",
       "      <td>1</td>\n",
       "      <td>-73.973053</td>\n",
       "      <td>40.793209</td>\n",
       "      <td>-73.972923</td>\n",
       "      <td>40.782520</td>\n",
       "      <td>N</td>\n",
       "      <td>435</td>\n",
       "      <td>1.189</td>\n",
       "      <td>9.840000</td>\n",
       "      <td>2016</td>\n",
       "      <td>3</td>\n",
       "      <td>5</td>\n",
       "    </tr>\n",
       "  </tbody>\n",
       "</table>\n",
       "</div>"
      ],
      "text/plain": [
       "           vendor_id      pickup_datetime     dropoff_datetime  \\\n",
       "id                                                               \n",
       "id2875421          2  2016-03-14 17:24:55  2016-03-14 17:32:30   \n",
       "id2377394          1  2016-06-12 00:43:35  2016-06-12 00:54:38   \n",
       "id3858529          2  2016-01-19 11:35:24  2016-01-19 12:10:48   \n",
       "id3504673          2  2016-04-06 19:32:31  2016-04-06 19:39:40   \n",
       "id2181028          2  2016-03-26 13:30:55  2016-03-26 13:38:10   \n",
       "\n",
       "           passenger_count  pickup_longitude  pickup_latitude  \\\n",
       "id                                                              \n",
       "id2875421                1        -73.982155        40.767937   \n",
       "id2377394                1        -73.980415        40.738564   \n",
       "id3858529                1        -73.979027        40.763939   \n",
       "id3504673                1        -74.010040        40.719971   \n",
       "id2181028                1        -73.973053        40.793209   \n",
       "\n",
       "           dropoff_longitude  dropoff_latitude store_and_fwd_flag  \\\n",
       "id                                                                  \n",
       "id2875421         -73.964630         40.765602                  N   \n",
       "id2377394         -73.999481         40.731152                  N   \n",
       "id3858529         -74.005333         40.710087                  N   \n",
       "id3504673         -74.012268         40.706718                  N   \n",
       "id2181028         -73.972923         40.782520                  N   \n",
       "\n",
       "           trip_duration  trip_distance(km)  avg_speed(km/hr)  trip_year  \\\n",
       "id                                                                         \n",
       "id2875421            455              1.499         11.860220       2016   \n",
       "id2377394            663              1.806          9.806335       2016   \n",
       "id3858529           2124              6.385         10.822034       2016   \n",
       "id3504673            429              1.485         12.461538       2016   \n",
       "id2181028            435              1.189          9.840000       2016   \n",
       "\n",
       "           trip_month  trip_weekday  \n",
       "id                                   \n",
       "id2875421           3             0  \n",
       "id2377394           6             6  \n",
       "id3858529           1             1  \n",
       "id3504673           4             2  \n",
       "id2181028           3             5  "
      ]
     },
     "execution_count": 9,
     "metadata": {},
     "output_type": "execute_result"
    }
   ],
   "source": [
    "df.head()"
   ]
  },
  {
   "cell_type": "markdown",
   "id": "bcd44777",
   "metadata": {},
   "source": [
    "# Question 1.1"
   ]
  },
  {
   "cell_type": "code",
   "execution_count": 10,
   "id": "56442319",
   "metadata": {},
   "outputs": [
    {
     "data": {
      "image/png": "[encoded data removed]",
      "text/plain": [
       "<Figure size 1440x864 with 3 Axes>"
      ]
     },
     "metadata": {
      "needs_background": "light"
     },
     "output_type": "display_data"
    }
   ],
   "source": [
    "# Plots\n",
    "fig, axes = plt.subplots(figsize=(20,12),nrows=3, ncols = 1)\n",
    "\n",
    "sns.boxplot(x=df['trip_duration'], ax=axes[0])\n",
    "axes[0].set_title('Boxplot of trip duration',fontsize=16)\n",
    "axes[0].set_xlabel('Trip Duration')\n",
    "\n",
    "sns.boxplot(x=df['trip_distance(km)'], ax=axes[1])\n",
    "axes[1].set_title('Boxplot of trip distance',fontsize=16)\n",
    "axes[1].set_xlabel('Trip Distance(km)')\n",
    "\n",
    "sns.boxplot(x=df['avg_speed(km/hr)'], ax=axes[2])\n",
    "axes[2].set_title('Boxplot of average speed',fontsize=16)\n",
    "axes[2].set_xlabel('Average Speed(km/hr)')\n",
    "\n",
    "plt.tight_layout()\n",
    "plt.show()"
   ]
  },
  {
   "cell_type": "markdown",
   "id": "07d6946b",
   "metadata": {},
   "source": [
    "**Inital observations:**\n",
    "\n",
    "* From the plots above we can see that there clearly some outliers in the dataset.\n",
    "* The trip duration plot: It looks like the outliers occur from around $2.0\\times 10^{6}$seconds. This is roughly equal to 555 hours. This is not really possible.\n",
    "* The trip distance plot: Some of the values from above 200km could be outliers but we can investigate further.\n",
    "* The average speed plot could have values influenced by the outliers in the trip duration or trip distance."
   ]
  },
  {
   "cell_type": "markdown",
   "id": "fdd9dbba",
   "metadata": {},
   "source": [
    "## 1. Investigate trip duration"
   ]
  },
  {
   "cell_type": "markdown",
   "id": "029cdc27",
   "metadata": {},
   "source": [
    "**Z-score**"
   ]
  },
  {
   "cell_type": "code",
   "execution_count": 11,
   "id": "5560d2c5",
   "metadata": {},
   "outputs": [
    {
     "name": "stdout",
     "output_type": "stream",
     "text": [
      "Outliers found 2073\n"
     ]
    }
   ],
   "source": [
    "z_score_1 = np.abs(stats.zscore(df['trip_duration']))\n",
    "thresh = 3\n",
    "\n",
    "# position of the outlier\n",
    "filtered_entries = (z_score_1 > 3)\n",
    "outlier_1 = df[filtered_entries]\n",
    "print('Outliers found',len(outlier_1))"
   ]
  },
  {
   "cell_type": "code",
   "execution_count": 12,
   "id": "a2daf638",
   "metadata": {},
   "outputs": [
    {
     "data": {
      "image/png": "[encoded data removed]",
      "text/plain": [
       "<Figure size 432x288 with 1 Axes>"
      ]
     },
     "metadata": {
      "needs_background": "light"
     },
     "output_type": "display_data"
    }
   ],
   "source": [
    "# View outliers\n",
    "sns.boxplot(x=outlier_1['trip_duration'])\n",
    "plt.show()"
   ]
  },
  {
   "cell_type": "markdown",
   "id": "96ff37ef",
   "metadata": {},
   "source": [
    "Here we can see that my inital assumption about some of the larger outliers was correct. What my inital observation missed was some the lower outliers that could occur."
   ]
  },
  {
   "cell_type": "markdown",
   "id": "6cfbd3ca",
   "metadata": {},
   "source": [
    "## 2. Investigate trip distance"
   ]
  },
  {
   "cell_type": "markdown",
   "id": "9e384203",
   "metadata": {},
   "source": [
    "**Z-score**"
   ]
  },
  {
   "cell_type": "code",
   "execution_count": 13,
   "id": "6177905f",
   "metadata": {},
   "outputs": [
    {
     "name": "stdout",
     "output_type": "stream",
     "text": [
      "Outliers found 40117\n"
     ]
    }
   ],
   "source": [
    "z_score_2 = np.abs(stats.zscore(df['trip_distance(km)']))\n",
    "thresh = 3\n",
    "\n",
    "# position of the outlier\n",
    "filtered_entries = (z_score_2 > thresh)\n",
    "outlier_2 = df[filtered_entries]\n",
    "print('Outliers found',len(outlier_2))"
   ]
  },
  {
   "cell_type": "code",
   "execution_count": 14,
   "id": "145bf8cc",
   "metadata": {},
   "outputs": [
    {
     "data": {
      "image/png": "[encoded data removed]",
      "text/plain": [
       "<Figure size 432x288 with 1 Axes>"
      ]
     },
     "metadata": {
      "needs_background": "light"
     },
     "output_type": "display_data"
    }
   ],
   "source": [
    "# View outliers\n",
    "sns.boxplot(x=outlier_2['trip_distance(km)'])\n",
    "plt.show()"
   ]
  },
  {
   "cell_type": "markdown",
   "id": "0d495e1d",
   "metadata": {},
   "source": [
    "We can see from the outliers above that my initial observation about the values from 200km was correct and that I may have also missed some values that are below 200km."
   ]
  },
  {
   "cell_type": "markdown",
   "id": "a74e37e5",
   "metadata": {},
   "source": [
    "## 2. Investigate average speed"
   ]
  },
  {
   "cell_type": "markdown",
   "id": "5b525eb1",
   "metadata": {},
   "source": [
    "**Z-score**"
   ]
  },
  {
   "cell_type": "code",
   "execution_count": 15,
   "id": "16066125",
   "metadata": {},
   "outputs": [
    {
     "name": "stdout",
     "output_type": "stream",
     "text": [
      "Outliers found 734\n"
     ]
    }
   ],
   "source": [
    "z_score_3 = np.abs(stats.zscore(df['avg_speed(km/hr)']))\n",
    "thresh = 3\n",
    "\n",
    "# position of the outlier\n",
    "filtered_entries = (z_score_3 > thresh)\n",
    "outlier_3 = df[filtered_entries]\n",
    "print('Outliers found',len(outlier_3))"
   ]
  },
  {
   "cell_type": "code",
   "execution_count": 16,
   "id": "623e8b57",
   "metadata": {},
   "outputs": [
    {
     "data": {
      "image/png": "[encoded data removed]",
      "text/plain": [
       "<Figure size 432x288 with 1 Axes>"
      ]
     },
     "metadata": {
      "needs_background": "light"
     },
     "output_type": "display_data"
    }
   ],
   "source": [
    "# View outliers\n",
    "sns.boxplot(x=outlier_3['avg_speed(km/hr)'])\n",
    "plt.show()"
   ]
  },
  {
   "cell_type": "markdown",
   "id": "b96453c0",
   "metadata": {},
   "source": [
    "## Droping the outliers from the three feauture observations"
   ]
  },
  {
   "cell_type": "code",
   "execution_count": 17,
   "id": "578f28d8",
   "metadata": {},
   "outputs": [],
   "source": [
    "# Drop the rows\n",
    "outliers = outlier_1 + outlier_2 + outlier_3\n",
    "df = df.drop(outliers.index)"
   ]
  },
  {
   "cell_type": "markdown",
   "id": "7f619a59",
   "metadata": {},
   "source": [
    "## Display Boxplots after outlier removal"
   ]
  },
  {
   "cell_type": "code",
   "execution_count": 18,
   "id": "0db3c186",
   "metadata": {},
   "outputs": [
    {
     "data": {
      "image/png": "[encoded data removed]",
      "text/plain": [
       "<Figure size 1440x864 with 3 Axes>"
      ]
     },
     "metadata": {
      "needs_background": "light"
     },
     "output_type": "display_data"
    }
   ],
   "source": [
    "# Plots\n",
    "fig, axes = plt.subplots(figsize=(20,12),nrows=3, ncols = 1)\n",
    "\n",
    "sns.boxplot(x=df['trip_duration'], ax=axes[0])\n",
    "axes[0].set_title('Boxplot of trip duration',fontsize=16)\n",
    "axes[0].set_xlabel('Trip Duration')\n",
    "\n",
    "sns.boxplot(x=df['trip_distance(km)'], ax=axes[1])\n",
    "axes[1].set_title('Boxplot of trip distance',fontsize=16)\n",
    "axes[1].set_xlabel('Trip Distance(km)')\n",
    "\n",
    "sns.boxplot(x=df['avg_speed(km/hr)'], ax=axes[2])\n",
    "axes[2].set_title('Boxplot of average speed',fontsize=16)\n",
    "axes[2].set_xlabel('Average Speed(km/hr)')\n",
    "\n",
    "plt.tight_layout()\n",
    "plt.show()"
   ]
  },
  {
   "cell_type": "markdown",
   "id": "663abab3",
   "metadata": {},
   "source": [
    "# Qusetion 1.3"
   ]
  },
  {
   "cell_type": "markdown",
   "id": "3ca4514f",
   "metadata": {},
   "source": [
    "### Question 1.3.1"
   ]
  },
  {
   "cell_type": "code",
   "execution_count": 19,
   "id": "77e386e7",
   "metadata": {},
   "outputs": [],
   "source": [
    "def plot_distribution(dataset, cols=5, width=20, height=15, hspace=0.2, wspace=0.5):\n",
    "    plt.style.use('seaborn-whitegrid')\n",
    "    fig = plt.figure(figsize=(width,height))\n",
    "    fig.subplots_adjust(left=None, bottom=None, right=None, top=None, wspace=wspace, hspace=hspace)\n",
    "    rows = math.ceil(float(dataset.shape[1]) / cols)\n",
    "    for i, column in enumerate(dataset.columns):\n",
    "        ax = fig.add_subplot(rows, cols, i + 1)\n",
    "        ax.set_title(column)\n",
    "        if dataset.dtypes[column] == object:\n",
    "            g = sns.countplot(y=column, data=dataset)\n",
    "            substrings = [s.get_text()[:18] for s in g.get_yticklabels()]\n",
    "            g.set(yticklabels=substrings)\n",
    "            plt.xticks(rotation=25)\n",
    "        else:\n",
    "            g = sns.distplot(dataset[column])\n",
    "            plt.xticks(rotation=25)"
   ]
  },
  {
   "cell_type": "code",
   "execution_count": 20,
   "id": "46822ec0",
   "metadata": {},
   "outputs": [
    {
     "name": "stderr",
     "output_type": "stream",
     "text": [
      "/home/siyabonga/.local/lib/python3.8/site-packages/seaborn/distributions.py:2551: FutureWarning: `distplot` is a deprecated function and will be removed in a future version. Please adapt your code to use either `displot` (a figure-level function with similar flexibility) or `histplot` (an axes-level function for histograms).\n",
      "  warnings.warn(msg, FutureWarning)\n"
     ]
    },
    {
     "data": {
      "image/png": "[encoded data removed]",
      "text/plain": [
       "<Figure size 1440x360 with 1 Axes>"
      ]
     },
     "metadata": {},
     "output_type": "display_data"
    }
   ],
   "source": [
    "plot_distribution(df[['trip_weekday']], cols=3, width=20, height=5, hspace=0.5, wspace=0.5)"
   ]
  },
  {
   "cell_type": "code",
   "execution_count": 21,
   "id": "37621ed1",
   "metadata": {},
   "outputs": [
    {
     "data": {
      "text/plain": [
       "4"
      ]
     },
     "execution_count": 21,
     "metadata": {},
     "output_type": "execute_result"
    }
   ],
   "source": [
    "df['trip_weekday'].value_counts().idxmax()"
   ]
  },
  {
   "cell_type": "markdown",
   "id": "e58abfbc",
   "metadata": {},
   "source": [
    "Most popular day is friday which is 4"
   ]
  },
  {
   "cell_type": "markdown",
   "id": "8f85d1d5",
   "metadata": {},
   "source": [
    "### Question 1.3.2"
   ]
  },
  {
   "cell_type": "code",
   "execution_count": 23,
   "id": "528a7740",
   "metadata": {},
   "outputs": [],
   "source": [
    "df['pickup_datetime'] = pd.to_datetime(df['pickup_datetime'])\n",
    "df['dropoff_datetime'] = pd.to_datetime(df['dropoff_datetime'])"
   ]
  },
  {
   "cell_type": "code",
   "execution_count": 24,
   "id": "b7eb5f75",
   "metadata": {},
   "outputs": [],
   "source": [
    "df['trip_hour'] = df['pickup_datetime'].dt.hour"
   ]
  },
  {
   "cell_type": "code",
   "execution_count": 25,
   "id": "8d6a7ce3",
   "metadata": {},
   "outputs": [
    {
     "data": {
      "text/html": [
       "<div>\n",
       "<style scoped>\n",
       "    .dataframe tbody tr th:only-of-type {\n",
       "        vertical-align: middle;\n",
       "    }\n",
       "\n",
       "    .dataframe tbody tr th {\n",
       "        vertical-align: top;\n",
       "    }\n",
       "\n",
       "    .dataframe thead th {\n",
       "        text-align: right;\n",
       "    }\n",
       "</style>\n",
       "<table border=\"1\" class=\"dataframe\">\n",
       "  <thead>\n",
       "    <tr style=\"text-align: right;\">\n",
       "      <th></th>\n",
       "      <th>vendor_id</th>\n",
       "      <th>pickup_datetime</th>\n",
       "      <th>dropoff_datetime</th>\n",
       "      <th>passenger_count</th>\n",
       "      <th>pickup_longitude</th>\n",
       "      <th>pickup_latitude</th>\n",
       "      <th>dropoff_longitude</th>\n",
       "      <th>dropoff_latitude</th>\n",
       "      <th>store_and_fwd_flag</th>\n",
       "      <th>trip_duration</th>\n",
       "      <th>trip_distance(km)</th>\n",
       "      <th>avg_speed(km/hr)</th>\n",
       "      <th>trip_year</th>\n",
       "      <th>trip_month</th>\n",
       "      <th>trip_weekday</th>\n",
       "      <th>trip_hour</th>\n",
       "    </tr>\n",
       "    <tr>\n",
       "      <th>id</th>\n",
       "      <th></th>\n",
       "      <th></th>\n",
       "      <th></th>\n",
       "      <th></th>\n",
       "      <th></th>\n",
       "      <th></th>\n",
       "      <th></th>\n",
       "      <th></th>\n",
       "      <th></th>\n",
       "      <th></th>\n",
       "      <th></th>\n",
       "      <th></th>\n",
       "      <th></th>\n",
       "      <th></th>\n",
       "      <th></th>\n",
       "      <th></th>\n",
       "    </tr>\n",
       "  </thead>\n",
       "  <tbody>\n",
       "    <tr>\n",
       "      <th>id2875421</th>\n",
       "      <td>2</td>\n",
       "      <td>2016-03-14 17:24:55</td>\n",
       "      <td>2016-03-14 17:32:30</td>\n",
       "      <td>1</td>\n",
       "      <td>-73.982155</td>\n",
       "      <td>40.767937</td>\n",
       "      <td>-73.964630</td>\n",
       "      <td>40.765602</td>\n",
       "      <td>N</td>\n",
       "      <td>455</td>\n",
       "      <td>1.499</td>\n",
       "      <td>11.860220</td>\n",
       "      <td>2016</td>\n",
       "      <td>3</td>\n",
       "      <td>0</td>\n",
       "      <td>17</td>\n",
       "    </tr>\n",
       "    <tr>\n",
       "      <th>id2377394</th>\n",
       "      <td>1</td>\n",
       "      <td>2016-06-12 00:43:35</td>\n",
       "      <td>2016-06-12 00:54:38</td>\n",
       "      <td>1</td>\n",
       "      <td>-73.980415</td>\n",
       "      <td>40.738564</td>\n",
       "      <td>-73.999481</td>\n",
       "      <td>40.731152</td>\n",
       "      <td>N</td>\n",
       "      <td>663</td>\n",
       "      <td>1.806</td>\n",
       "      <td>9.806335</td>\n",
       "      <td>2016</td>\n",
       "      <td>6</td>\n",
       "      <td>6</td>\n",
       "      <td>0</td>\n",
       "    </tr>\n",
       "    <tr>\n",
       "      <th>id3858529</th>\n",
       "      <td>2</td>\n",
       "      <td>2016-01-19 11:35:24</td>\n",
       "      <td>2016-01-19 12:10:48</td>\n",
       "      <td>1</td>\n",
       "      <td>-73.979027</td>\n",
       "      <td>40.763939</td>\n",
       "      <td>-74.005333</td>\n",
       "      <td>40.710087</td>\n",
       "      <td>N</td>\n",
       "      <td>2124</td>\n",
       "      <td>6.385</td>\n",
       "      <td>10.822034</td>\n",
       "      <td>2016</td>\n",
       "      <td>1</td>\n",
       "      <td>1</td>\n",
       "      <td>11</td>\n",
       "    </tr>\n",
       "    <tr>\n",
       "      <th>id3504673</th>\n",
       "      <td>2</td>\n",
       "      <td>2016-04-06 19:32:31</td>\n",
       "      <td>2016-04-06 19:39:40</td>\n",
       "      <td>1</td>\n",
       "      <td>-74.010040</td>\n",
       "      <td>40.719971</td>\n",
       "      <td>-74.012268</td>\n",
       "      <td>40.706718</td>\n",
       "      <td>N</td>\n",
       "      <td>429</td>\n",
       "      <td>1.485</td>\n",
       "      <td>12.461538</td>\n",
       "      <td>2016</td>\n",
       "      <td>4</td>\n",
       "      <td>2</td>\n",
       "      <td>19</td>\n",
       "    </tr>\n",
       "    <tr>\n",
       "      <th>id2181028</th>\n",
       "      <td>2</td>\n",
       "      <td>2016-03-26 13:30:55</td>\n",
       "      <td>2016-03-26 13:38:10</td>\n",
       "      <td>1</td>\n",
       "      <td>-73.973053</td>\n",
       "      <td>40.793209</td>\n",
       "      <td>-73.972923</td>\n",
       "      <td>40.782520</td>\n",
       "      <td>N</td>\n",
       "      <td>435</td>\n",
       "      <td>1.189</td>\n",
       "      <td>9.840000</td>\n",
       "      <td>2016</td>\n",
       "      <td>3</td>\n",
       "      <td>5</td>\n",
       "      <td>13</td>\n",
       "    </tr>\n",
       "  </tbody>\n",
       "</table>\n",
       "</div>"
      ],
      "text/plain": [
       "           vendor_id     pickup_datetime    dropoff_datetime  passenger_count  \\\n",
       "id                                                                              \n",
       "id2875421          2 2016-03-14 17:24:55 2016-03-14 17:32:30                1   \n",
       "id2377394          1 2016-06-12 00:43:35 2016-06-12 00:54:38                1   \n",
       "id3858529          2 2016-01-19 11:35:24 2016-01-19 12:10:48                1   \n",
       "id3504673          2 2016-04-06 19:32:31 2016-04-06 19:39:40                1   \n",
       "id2181028          2 2016-03-26 13:30:55 2016-03-26 13:38:10                1   \n",
       "\n",
       "           pickup_longitude  pickup_latitude  dropoff_longitude  \\\n",
       "id                                                                \n",
       "id2875421        -73.982155        40.767937         -73.964630   \n",
       "id2377394        -73.980415        40.738564         -73.999481   \n",
       "id3858529        -73.979027        40.763939         -74.005333   \n",
       "id3504673        -74.010040        40.719971         -74.012268   \n",
       "id2181028        -73.973053        40.793209         -73.972923   \n",
       "\n",
       "           dropoff_latitude store_and_fwd_flag  trip_duration  \\\n",
       "id                                                              \n",
       "id2875421         40.765602                  N            455   \n",
       "id2377394         40.731152                  N            663   \n",
       "id3858529         40.710087                  N           2124   \n",
       "id3504673         40.706718                  N            429   \n",
       "id2181028         40.782520                  N            435   \n",
       "\n",
       "           trip_distance(km)  avg_speed(km/hr)  trip_year  trip_month  \\\n",
       "id                                                                      \n",
       "id2875421              1.499         11.860220       2016           3   \n",
       "id2377394              1.806          9.806335       2016           6   \n",
       "id3858529              6.385         10.822034       2016           1   \n",
       "id3504673              1.485         12.461538       2016           4   \n",
       "id2181028              1.189          9.840000       2016           3   \n",
       "\n",
       "           trip_weekday  trip_hour  \n",
       "id                                  \n",
       "id2875421             0         17  \n",
       "id2377394             6          0  \n",
       "id3858529             1         11  \n",
       "id3504673             2         19  \n",
       "id2181028             5         13  "
      ]
     },
     "execution_count": 25,
     "metadata": {},
     "output_type": "execute_result"
    }
   ],
   "source": [
    "df.head()"
   ]
  },
  {
   "cell_type": "code",
   "execution_count": 26,
   "id": "5d495a27",
   "metadata": {},
   "outputs": [],
   "source": [
    "peak_hour_of_day = df.groupby('trip_weekday').agg({'trip_hour':pd.Series.mode})"
   ]
  },
  {
   "cell_type": "code",
   "execution_count": 27,
   "id": "2c98c283",
   "metadata": {},
   "outputs": [
    {
     "data": {
      "text/html": [
       "<div>\n",
       "<style scoped>\n",
       "    .dataframe tbody tr th:only-of-type {\n",
       "        vertical-align: middle;\n",
       "    }\n",
       "\n",
       "    .dataframe tbody tr th {\n",
       "        vertical-align: top;\n",
       "    }\n",
       "\n",
       "    .dataframe thead th {\n",
       "        text-align: right;\n",
       "    }\n",
       "</style>\n",
       "<table border=\"1\" class=\"dataframe\">\n",
       "  <thead>\n",
       "    <tr style=\"text-align: right;\">\n",
       "      <th></th>\n",
       "      <th>trip_hour</th>\n",
       "    </tr>\n",
       "    <tr>\n",
       "      <th>trip_weekday</th>\n",
       "      <th></th>\n",
       "    </tr>\n",
       "  </thead>\n",
       "  <tbody>\n",
       "    <tr>\n",
       "      <th>0</th>\n",
       "      <td>18</td>\n",
       "    </tr>\n",
       "    <tr>\n",
       "      <th>1</th>\n",
       "      <td>18</td>\n",
       "    </tr>\n",
       "    <tr>\n",
       "      <th>2</th>\n",
       "      <td>19</td>\n",
       "    </tr>\n",
       "    <tr>\n",
       "      <th>3</th>\n",
       "      <td>21</td>\n",
       "    </tr>\n",
       "    <tr>\n",
       "      <th>4</th>\n",
       "      <td>19</td>\n",
       "    </tr>\n",
       "    <tr>\n",
       "      <th>5</th>\n",
       "      <td>23</td>\n",
       "    </tr>\n",
       "    <tr>\n",
       "      <th>6</th>\n",
       "      <td>0</td>\n",
       "    </tr>\n",
       "  </tbody>\n",
       "</table>\n",
       "</div>"
      ],
      "text/plain": [
       "              trip_hour\n",
       "trip_weekday           \n",
       "0                    18\n",
       "1                    18\n",
       "2                    19\n",
       "3                    21\n",
       "4                    19\n",
       "5                    23\n",
       "6                     0"
      ]
     },
     "execution_count": 27,
     "metadata": {},
     "output_type": "execute_result"
    }
   ],
   "source": [
    "peak_hour_of_day"
   ]
  },
  {
   "cell_type": "markdown",
   "id": "d3d5d379",
   "metadata": {},
   "source": [
    "On a Monday most people pickup at 6pm <br>\n",
    "On a Tuesday most people pickup at 6pm <br>\n",
    "On a Wednesday most people pickup at 7pm <br>\n",
    "On a Thursday most people pickup at 9pm <br>\n",
    "On a Friday most people pickup at 7pm <br>\n",
    "On a Saturday most people pickup at 11pm <br>\n",
    "On a Sunday most people pickup at 12am"
   ]
  },
  {
   "cell_type": "code",
   "execution_count": 28,
   "id": "638a2648",
   "metadata": {},
   "outputs": [
    {
     "name": "stderr",
     "output_type": "stream",
     "text": [
      "/home/siyabonga/.local/lib/python3.8/site-packages/seaborn/distributions.py:2551: FutureWarning: `distplot` is a deprecated function and will be removed in a future version. Please adapt your code to use either `displot` (a figure-level function with similar flexibility) or `histplot` (an axes-level function for histograms).\n",
      "  warnings.warn(msg, FutureWarning)\n"
     ]
    },
    {
     "data": {
      "image/png": "[encoded data removed]",
      "text/plain": [
       "<Figure size 1440x360 with 1 Axes>"
      ]
     },
     "metadata": {},
     "output_type": "display_data"
    }
   ],
   "source": [
    "plot_distribution(df[['trip_hour']], cols=3, width=20, height=5, hspace=0.5, wspace=0.5)"
   ]
  },
  {
   "cell_type": "markdown",
   "id": "4144f95e",
   "metadata": {},
   "source": [
    "Most people pickup at 6pm and 7pm <br>\n",
    "This can be due to most people are coming back from work at that time"
   ]
  },
  {
   "cell_type": "markdown",
   "id": "d11089e9",
   "metadata": {},
   "source": [
    "### QUestion 1.3.3"
   ]
  },
  {
   "cell_type": "code",
   "execution_count": 29,
   "id": "ac5e834d",
   "metadata": {},
   "outputs": [],
   "source": [
    "hours_in_day = df.groupby('trip_weekday')['trip_hour'].apply(list)"
   ]
  },
  {
   "cell_type": "markdown",
   "id": "d179e120",
   "metadata": {},
   "source": [
    "Weekdays"
   ]
  },
  {
   "cell_type": "code",
   "execution_count": 30,
   "id": "7341fe3d",
   "metadata": {
    "scrolled": true
   },
   "outputs": [
    {
     "data": {
      "text/plain": [
       "<matplotlib.legend.Legend at 0x7f1fc18b75e0>"
      ]
     },
     "execution_count": 30,
     "metadata": {},
     "output_type": "execute_result"
    },
    {
     "data": {
      "image/png": "[encoded data removed]",
      "text/plain": [
       "<Figure size 432x288 with 1 Axes>"
      ]
     },
     "metadata": {},
     "output_type": "display_data"
    }
   ],
   "source": [
    "plt.hist(hours_in_day[0], 24,label='Mon',alpha = 0.5)\n",
    "plt.hist(hours_in_day[1], 24,label='Tues',alpha = 0.5)\n",
    "plt.hist(hours_in_day[2], 24,label='Wednes',alpha = 0.5)\n",
    "plt.hist(hours_in_day[3], 24,label='Thurs',alpha = 0.5)\n",
    "plt.hist(hours_in_day[4], 24,label='Fri',alpha = 0.5)\n",
    "plt.legend()"
   ]
  },
  {
   "cell_type": "markdown",
   "id": "3ec30377",
   "metadata": {},
   "source": [
    "Weekends"
   ]
  },
  {
   "cell_type": "code",
   "execution_count": 31,
   "id": "d59a1afb",
   "metadata": {},
   "outputs": [
    {
     "data": {
      "text/plain": [
       "<matplotlib.legend.Legend at 0x7f1fe04f7c10>"
      ]
     },
     "execution_count": 31,
     "metadata": {},
     "output_type": "execute_result"
    },
    {
     "data": {
      "image/png": "[encoded data removed]",
      "text/plain": [
       "<Figure size 432x288 with 1 Axes>"
      ]
     },
     "metadata": {},
     "output_type": "display_data"
    }
   ],
   "source": [
    "plt.hist(hours_in_day[5], 24,label='Sat',alpha = 0.5)\n",
    "plt.hist(hours_in_day[6], 24,label='Sun',alpha = 0.5)\n",
    "plt.legend()"
   ]
  },
  {
   "cell_type": "markdown",
   "id": "824dc1bb",
   "metadata": {},
   "source": [
    "Weekday VS Weekend"
   ]
  },
  {
   "cell_type": "code",
   "execution_count": 32,
   "id": "e257c96c",
   "metadata": {},
   "outputs": [
    {
     "data": {
      "text/plain": [
       "<matplotlib.legend.Legend at 0x7f1fc0fe0d60>"
      ]
     },
     "execution_count": 32,
     "metadata": {},
     "output_type": "execute_result"
    },
    {
     "data": {
      "image/png": "[encoded data removed]",
      "text/plain": [
       "<Figure size 432x288 with 1 Axes>"
      ]
     },
     "metadata": {},
     "output_type": "display_data"
    }
   ],
   "source": [
    "plt.hist(hours_in_day[0], 24,label='Mon',alpha = 0.5)\n",
    "plt.hist(hours_in_day[5], 24,label='Sat',alpha = 0.5)\n",
    "plt.legend()"
   ]
  },
  {
   "cell_type": "markdown",
   "id": "8aef9ac3",
   "metadata": {},
   "source": [
    "On weekends most people like to pickup at early Morning 12am to 5am. <br>\n",
    "Saturday is similar to weekdays but there are more pickups in the early hours 12am to 5am <br>\n",
    "On Sunday after 6pm most people don't pickup anymore. <br>\n",
    "The early pickups on weekend might be due to people traveling to vist there families, it can also be due to people partying on the weekend. <br>\n",
    "We can also see that not much pickups happen at 5am to 10am at the weekends, this can be due to people not going to work."
   ]
  },
  {
   "cell_type": "markdown",
   "id": "e114aadc",
   "metadata": {},
   "source": [
    "### Question 1.3.4"
   ]
  },
  {
   "cell_type": "code",
   "execution_count": 33,
   "id": "c28aa4a2",
   "metadata": {},
   "outputs": [],
   "source": [
    "cal = calendar()\n",
    "Holidays = cal.holidays(start=df['pickup_datetime'].min(), end=df['pickup_datetime'].max())\n",
    "df['Holiday'] = df['pickup_datetime'].dt.date.astype('datetime64').isin(Holidays)"
   ]
  },
  {
   "cell_type": "code",
   "execution_count": 34,
   "id": "5f109e9f",
   "metadata": {},
   "outputs": [
    {
     "data": {
      "text/plain": [
       "DatetimeIndex(['2016-01-18', '2016-02-15', '2016-05-30'], dtype='datetime64[ns]', freq=None)"
      ]
     },
     "execution_count": 34,
     "metadata": {},
     "output_type": "execute_result"
    }
   ],
   "source": [
    "Holidays"
   ]
  },
  {
   "cell_type": "code",
   "execution_count": 35,
   "id": "a3f4fc80",
   "metadata": {},
   "outputs": [
    {
     "data": {
      "text/html": [
       "<div>\n",
       "<style scoped>\n",
       "    .dataframe tbody tr th:only-of-type {\n",
       "        vertical-align: middle;\n",
       "    }\n",
       "\n",
       "    .dataframe tbody tr th {\n",
       "        vertical-align: top;\n",
       "    }\n",
       "\n",
       "    .dataframe thead th {\n",
       "        text-align: right;\n",
       "    }\n",
       "</style>\n",
       "<table border=\"1\" class=\"dataframe\">\n",
       "  <thead>\n",
       "    <tr style=\"text-align: right;\">\n",
       "      <th></th>\n",
       "      <th>vendor_id</th>\n",
       "      <th>pickup_datetime</th>\n",
       "      <th>dropoff_datetime</th>\n",
       "      <th>passenger_count</th>\n",
       "      <th>pickup_longitude</th>\n",
       "      <th>pickup_latitude</th>\n",
       "      <th>dropoff_longitude</th>\n",
       "      <th>dropoff_latitude</th>\n",
       "      <th>store_and_fwd_flag</th>\n",
       "      <th>trip_duration</th>\n",
       "      <th>trip_distance(km)</th>\n",
       "      <th>avg_speed(km/hr)</th>\n",
       "      <th>trip_year</th>\n",
       "      <th>trip_month</th>\n",
       "      <th>trip_weekday</th>\n",
       "      <th>trip_hour</th>\n",
       "      <th>Holiday</th>\n",
       "    </tr>\n",
       "    <tr>\n",
       "      <th>id</th>\n",
       "      <th></th>\n",
       "      <th></th>\n",
       "      <th></th>\n",
       "      <th></th>\n",
       "      <th></th>\n",
       "      <th></th>\n",
       "      <th></th>\n",
       "      <th></th>\n",
       "      <th></th>\n",
       "      <th></th>\n",
       "      <th></th>\n",
       "      <th></th>\n",
       "      <th></th>\n",
       "      <th></th>\n",
       "      <th></th>\n",
       "      <th></th>\n",
       "      <th></th>\n",
       "    </tr>\n",
       "  </thead>\n",
       "  <tbody>\n",
       "    <tr>\n",
       "      <th>id2875421</th>\n",
       "      <td>2</td>\n",
       "      <td>2016-03-14 17:24:55</td>\n",
       "      <td>2016-03-14 17:32:30</td>\n",
       "      <td>1</td>\n",
       "      <td>-73.982155</td>\n",
       "      <td>40.767937</td>\n",
       "      <td>-73.964630</td>\n",
       "      <td>40.765602</td>\n",
       "      <td>N</td>\n",
       "      <td>455</td>\n",
       "      <td>1.499</td>\n",
       "      <td>11.860220</td>\n",
       "      <td>2016</td>\n",
       "      <td>3</td>\n",
       "      <td>0</td>\n",
       "      <td>17</td>\n",
       "      <td>False</td>\n",
       "    </tr>\n",
       "    <tr>\n",
       "      <th>id2377394</th>\n",
       "      <td>1</td>\n",
       "      <td>2016-06-12 00:43:35</td>\n",
       "      <td>2016-06-12 00:54:38</td>\n",
       "      <td>1</td>\n",
       "      <td>-73.980415</td>\n",
       "      <td>40.738564</td>\n",
       "      <td>-73.999481</td>\n",
       "      <td>40.731152</td>\n",
       "      <td>N</td>\n",
       "      <td>663</td>\n",
       "      <td>1.806</td>\n",
       "      <td>9.806335</td>\n",
       "      <td>2016</td>\n",
       "      <td>6</td>\n",
       "      <td>6</td>\n",
       "      <td>0</td>\n",
       "      <td>False</td>\n",
       "    </tr>\n",
       "    <tr>\n",
       "      <th>id3858529</th>\n",
       "      <td>2</td>\n",
       "      <td>2016-01-19 11:35:24</td>\n",
       "      <td>2016-01-19 12:10:48</td>\n",
       "      <td>1</td>\n",
       "      <td>-73.979027</td>\n",
       "      <td>40.763939</td>\n",
       "      <td>-74.005333</td>\n",
       "      <td>40.710087</td>\n",
       "      <td>N</td>\n",
       "      <td>2124</td>\n",
       "      <td>6.385</td>\n",
       "      <td>10.822034</td>\n",
       "      <td>2016</td>\n",
       "      <td>1</td>\n",
       "      <td>1</td>\n",
       "      <td>11</td>\n",
       "      <td>False</td>\n",
       "    </tr>\n",
       "    <tr>\n",
       "      <th>id3504673</th>\n",
       "      <td>2</td>\n",
       "      <td>2016-04-06 19:32:31</td>\n",
       "      <td>2016-04-06 19:39:40</td>\n",
       "      <td>1</td>\n",
       "      <td>-74.010040</td>\n",
       "      <td>40.719971</td>\n",
       "      <td>-74.012268</td>\n",
       "      <td>40.706718</td>\n",
       "      <td>N</td>\n",
       "      <td>429</td>\n",
       "      <td>1.485</td>\n",
       "      <td>12.461538</td>\n",
       "      <td>2016</td>\n",
       "      <td>4</td>\n",
       "      <td>2</td>\n",
       "      <td>19</td>\n",
       "      <td>False</td>\n",
       "    </tr>\n",
       "    <tr>\n",
       "      <th>id2181028</th>\n",
       "      <td>2</td>\n",
       "      <td>2016-03-26 13:30:55</td>\n",
       "      <td>2016-03-26 13:38:10</td>\n",
       "      <td>1</td>\n",
       "      <td>-73.973053</td>\n",
       "      <td>40.793209</td>\n",
       "      <td>-73.972923</td>\n",
       "      <td>40.782520</td>\n",
       "      <td>N</td>\n",
       "      <td>435</td>\n",
       "      <td>1.189</td>\n",
       "      <td>9.840000</td>\n",
       "      <td>2016</td>\n",
       "      <td>3</td>\n",
       "      <td>5</td>\n",
       "      <td>13</td>\n",
       "      <td>False</td>\n",
       "    </tr>\n",
       "  </tbody>\n",
       "</table>\n",
       "</div>"
      ],
      "text/plain": [
       "           vendor_id     pickup_datetime    dropoff_datetime  passenger_count  \\\n",
       "id                                                                              \n",
       "id2875421          2 2016-03-14 17:24:55 2016-03-14 17:32:30                1   \n",
       "id2377394          1 2016-06-12 00:43:35 2016-06-12 00:54:38                1   \n",
       "id3858529          2 2016-01-19 11:35:24 2016-01-19 12:10:48                1   \n",
       "id3504673          2 2016-04-06 19:32:31 2016-04-06 19:39:40                1   \n",
       "id2181028          2 2016-03-26 13:30:55 2016-03-26 13:38:10                1   \n",
       "\n",
       "           pickup_longitude  pickup_latitude  dropoff_longitude  \\\n",
       "id                                                                \n",
       "id2875421        -73.982155        40.767937         -73.964630   \n",
       "id2377394        -73.980415        40.738564         -73.999481   \n",
       "id3858529        -73.979027        40.763939         -74.005333   \n",
       "id3504673        -74.010040        40.719971         -74.012268   \n",
       "id2181028        -73.973053        40.793209         -73.972923   \n",
       "\n",
       "           dropoff_latitude store_and_fwd_flag  trip_duration  \\\n",
       "id                                                              \n",
       "id2875421         40.765602                  N            455   \n",
       "id2377394         40.731152                  N            663   \n",
       "id3858529         40.710087                  N           2124   \n",
       "id3504673         40.706718                  N            429   \n",
       "id2181028         40.782520                  N            435   \n",
       "\n",
       "           trip_distance(km)  avg_speed(km/hr)  trip_year  trip_month  \\\n",
       "id                                                                      \n",
       "id2875421              1.499         11.860220       2016           3   \n",
       "id2377394              1.806          9.806335       2016           6   \n",
       "id3858529              6.385         10.822034       2016           1   \n",
       "id3504673              1.485         12.461538       2016           4   \n",
       "id2181028              1.189          9.840000       2016           3   \n",
       "\n",
       "           trip_weekday  trip_hour  Holiday  \n",
       "id                                           \n",
       "id2875421             0         17    False  \n",
       "id2377394             6          0    False  \n",
       "id3858529             1         11    False  \n",
       "id3504673             2         19    False  \n",
       "id2181028             5         13    False  "
      ]
     },
     "execution_count": 35,
     "metadata": {},
     "output_type": "execute_result"
    }
   ],
   "source": [
    "df.head()"
   ]
  },
  {
   "cell_type": "code",
   "execution_count": 36,
   "id": "d6189b05",
   "metadata": {},
   "outputs": [],
   "source": [
    "Holidays_df = df[df['Holiday'] == True]"
   ]
  },
  {
   "cell_type": "code",
   "execution_count": 37,
   "id": "7c8e7116",
   "metadata": {},
   "outputs": [
    {
     "data": {
      "text/html": [
       "<div>\n",
       "<style scoped>\n",
       "    .dataframe tbody tr th:only-of-type {\n",
       "        vertical-align: middle;\n",
       "    }\n",
       "\n",
       "    .dataframe tbody tr th {\n",
       "        vertical-align: top;\n",
       "    }\n",
       "\n",
       "    .dataframe thead th {\n",
       "        text-align: right;\n",
       "    }\n",
       "</style>\n",
       "<table border=\"1\" class=\"dataframe\">\n",
       "  <thead>\n",
       "    <tr style=\"text-align: right;\">\n",
       "      <th></th>\n",
       "      <th>vendor_id</th>\n",
       "      <th>pickup_datetime</th>\n",
       "      <th>dropoff_datetime</th>\n",
       "      <th>passenger_count</th>\n",
       "      <th>pickup_longitude</th>\n",
       "      <th>pickup_latitude</th>\n",
       "      <th>dropoff_longitude</th>\n",
       "      <th>dropoff_latitude</th>\n",
       "      <th>store_and_fwd_flag</th>\n",
       "      <th>trip_duration</th>\n",
       "      <th>trip_distance(km)</th>\n",
       "      <th>avg_speed(km/hr)</th>\n",
       "      <th>trip_year</th>\n",
       "      <th>trip_month</th>\n",
       "      <th>trip_weekday</th>\n",
       "      <th>trip_hour</th>\n",
       "      <th>Holiday</th>\n",
       "    </tr>\n",
       "    <tr>\n",
       "      <th>id</th>\n",
       "      <th></th>\n",
       "      <th></th>\n",
       "      <th></th>\n",
       "      <th></th>\n",
       "      <th></th>\n",
       "      <th></th>\n",
       "      <th></th>\n",
       "      <th></th>\n",
       "      <th></th>\n",
       "      <th></th>\n",
       "      <th></th>\n",
       "      <th></th>\n",
       "      <th></th>\n",
       "      <th></th>\n",
       "      <th></th>\n",
       "      <th></th>\n",
       "      <th></th>\n",
       "    </tr>\n",
       "  </thead>\n",
       "  <tbody>\n",
       "    <tr>\n",
       "      <th>id0675800</th>\n",
       "      <td>2</td>\n",
       "      <td>2016-02-15 09:25:15</td>\n",
       "      <td>2016-02-15 09:35:49</td>\n",
       "      <td>6</td>\n",
       "      <td>-73.977753</td>\n",
       "      <td>40.754631</td>\n",
       "      <td>-74.001678</td>\n",
       "      <td>40.756420</td>\n",
       "      <td>N</td>\n",
       "      <td>634</td>\n",
       "      <td>2.025</td>\n",
       "      <td>11.498423</td>\n",
       "      <td>2016</td>\n",
       "      <td>2</td>\n",
       "      <td>0</td>\n",
       "      <td>9</td>\n",
       "      <td>True</td>\n",
       "    </tr>\n",
       "    <tr>\n",
       "      <th>id2648478</th>\n",
       "      <td>1</td>\n",
       "      <td>2016-01-18 11:13:59</td>\n",
       "      <td>2016-01-18 11:18:56</td>\n",
       "      <td>1</td>\n",
       "      <td>-73.951576</td>\n",
       "      <td>40.766468</td>\n",
       "      <td>-73.960213</td>\n",
       "      <td>40.760540</td>\n",
       "      <td>N</td>\n",
       "      <td>297</td>\n",
       "      <td>0.982</td>\n",
       "      <td>11.903030</td>\n",
       "      <td>2016</td>\n",
       "      <td>1</td>\n",
       "      <td>0</td>\n",
       "      <td>11</td>\n",
       "      <td>True</td>\n",
       "    </tr>\n",
       "    <tr>\n",
       "      <th>id1674373</th>\n",
       "      <td>2</td>\n",
       "      <td>2016-02-15 17:52:27</td>\n",
       "      <td>2016-02-15 18:02:13</td>\n",
       "      <td>5</td>\n",
       "      <td>-74.007500</td>\n",
       "      <td>40.740952</td>\n",
       "      <td>-74.016647</td>\n",
       "      <td>40.704910</td>\n",
       "      <td>N</td>\n",
       "      <td>586</td>\n",
       "      <td>4.081</td>\n",
       "      <td>25.070990</td>\n",
       "      <td>2016</td>\n",
       "      <td>2</td>\n",
       "      <td>0</td>\n",
       "      <td>17</td>\n",
       "      <td>True</td>\n",
       "    </tr>\n",
       "    <tr>\n",
       "      <th>id2677357</th>\n",
       "      <td>2</td>\n",
       "      <td>2016-02-15 16:36:19</td>\n",
       "      <td>2016-02-15 16:41:50</td>\n",
       "      <td>2</td>\n",
       "      <td>-73.971634</td>\n",
       "      <td>40.781963</td>\n",
       "      <td>-73.981689</td>\n",
       "      <td>40.778996</td>\n",
       "      <td>N</td>\n",
       "      <td>331</td>\n",
       "      <td>0.909</td>\n",
       "      <td>9.886405</td>\n",
       "      <td>2016</td>\n",
       "      <td>2</td>\n",
       "      <td>0</td>\n",
       "      <td>16</td>\n",
       "      <td>True</td>\n",
       "    </tr>\n",
       "    <tr>\n",
       "      <th>id3013319</th>\n",
       "      <td>2</td>\n",
       "      <td>2016-02-15 22:28:54</td>\n",
       "      <td>2016-02-15 22:30:27</td>\n",
       "      <td>1</td>\n",
       "      <td>-73.981400</td>\n",
       "      <td>40.778793</td>\n",
       "      <td>-73.976524</td>\n",
       "      <td>40.782497</td>\n",
       "      <td>N</td>\n",
       "      <td>93</td>\n",
       "      <td>0.581</td>\n",
       "      <td>22.490323</td>\n",
       "      <td>2016</td>\n",
       "      <td>2</td>\n",
       "      <td>0</td>\n",
       "      <td>22</td>\n",
       "      <td>True</td>\n",
       "    </tr>\n",
       "  </tbody>\n",
       "</table>\n",
       "</div>"
      ],
      "text/plain": [
       "           vendor_id     pickup_datetime    dropoff_datetime  passenger_count  \\\n",
       "id                                                                              \n",
       "id0675800          2 2016-02-15 09:25:15 2016-02-15 09:35:49                6   \n",
       "id2648478          1 2016-01-18 11:13:59 2016-01-18 11:18:56                1   \n",
       "id1674373          2 2016-02-15 17:52:27 2016-02-15 18:02:13                5   \n",
       "id2677357          2 2016-02-15 16:36:19 2016-02-15 16:41:50                2   \n",
       "id3013319          2 2016-02-15 22:28:54 2016-02-15 22:30:27                1   \n",
       "\n",
       "           pickup_longitude  pickup_latitude  dropoff_longitude  \\\n",
       "id                                                                \n",
       "id0675800        -73.977753        40.754631         -74.001678   \n",
       "id2648478        -73.951576        40.766468         -73.960213   \n",
       "id1674373        -74.007500        40.740952         -74.016647   \n",
       "id2677357        -73.971634        40.781963         -73.981689   \n",
       "id3013319        -73.981400        40.778793         -73.976524   \n",
       "\n",
       "           dropoff_latitude store_and_fwd_flag  trip_duration  \\\n",
       "id                                                              \n",
       "id0675800         40.756420                  N            634   \n",
       "id2648478         40.760540                  N            297   \n",
       "id1674373         40.704910                  N            586   \n",
       "id2677357         40.778996                  N            331   \n",
       "id3013319         40.782497                  N             93   \n",
       "\n",
       "           trip_distance(km)  avg_speed(km/hr)  trip_year  trip_month  \\\n",
       "id                                                                      \n",
       "id0675800              2.025         11.498423       2016           2   \n",
       "id2648478              0.982         11.903030       2016           1   \n",
       "id1674373              4.081         25.070990       2016           2   \n",
       "id2677357              0.909          9.886405       2016           2   \n",
       "id3013319              0.581         22.490323       2016           2   \n",
       "\n",
       "           trip_weekday  trip_hour  Holiday  \n",
       "id                                           \n",
       "id0675800             0          9     True  \n",
       "id2648478             0         11     True  \n",
       "id1674373             0         17     True  \n",
       "id2677357             0         16     True  \n",
       "id3013319             0         22     True  "
      ]
     },
     "execution_count": 37,
     "metadata": {},
     "output_type": "execute_result"
    }
   ],
   "source": [
    "Holidays_df.head()"
   ]
  },
  {
   "cell_type": "code",
   "execution_count": 40,
   "id": "e95840b2",
   "metadata": {},
   "outputs": [],
   "source": [
    "hours_in_day_holidays = Holidays_df.groupby('trip_weekday')['trip_hour'].apply(list)"
   ]
  },
  {
   "cell_type": "code",
   "execution_count": 41,
   "id": "0e06d866",
   "metadata": {},
   "outputs": [
    {
     "data": {
      "text/plain": [
       "<matplotlib.legend.Legend at 0x7f1fb06b5880>"
      ]
     },
     "execution_count": 41,
     "metadata": {},
     "output_type": "execute_result"
    },
    {
     "data": {
      "image/png": "[encoded data removed]",
      "text/plain": [
       "<Figure size 432x288 with 1 Axes>"
      ]
     },
     "metadata": {},
     "output_type": "display_data"
    }
   ],
   "source": [
    "plt.hist(hours_in_day_holidays[0], 24,label='Mon_Holiday',alpha = 0.5)\n",
    "plt.hist(hours_in_day[0], 24,label='Mon_regular',alpha = 0.5)\n",
    "plt.legend()"
   ]
  },
  {
   "cell_type": "markdown",
   "id": "6829ee4e",
   "metadata": {},
   "source": [
    "Compared to a noraml Monday, the one on Holiday indicate that they are far less pickups then normal. <br>\n",
    "This shows that most people don't work or travel on Holidays"
   ]
  },
  {
   "cell_type": "markdown",
   "id": "6847ac25",
   "metadata": {},
   "source": [
    "### Question 1.3.5"
   ]
  },
  {
   "cell_type": "code",
   "execution_count": 42,
   "id": "2db36410",
   "metadata": {},
   "outputs": [],
   "source": [
    "day_speed = df[['pickup_datetime','avg_speed(km/hr)']]"
   ]
  },
  {
   "cell_type": "code",
   "execution_count": 43,
   "id": "084b2d36",
   "metadata": {},
   "outputs": [
    {
     "data": {
      "text/html": [
       "<div>\n",
       "<style scoped>\n",
       "    .dataframe tbody tr th:only-of-type {\n",
       "        vertical-align: middle;\n",
       "    }\n",
       "\n",
       "    .dataframe tbody tr th {\n",
       "        vertical-align: top;\n",
       "    }\n",
       "\n",
       "    .dataframe thead th {\n",
       "        text-align: right;\n",
       "    }\n",
       "</style>\n",
       "<table border=\"1\" class=\"dataframe\">\n",
       "  <thead>\n",
       "    <tr style=\"text-align: right;\">\n",
       "      <th></th>\n",
       "      <th>pickup_datetime</th>\n",
       "      <th>avg_speed(km/hr)</th>\n",
       "    </tr>\n",
       "    <tr>\n",
       "      <th>id</th>\n",
       "      <th></th>\n",
       "      <th></th>\n",
       "    </tr>\n",
       "  </thead>\n",
       "  <tbody>\n",
       "    <tr>\n",
       "      <th>id2875421</th>\n",
       "      <td>2016-03-14 17:24:55</td>\n",
       "      <td>11.860220</td>\n",
       "    </tr>\n",
       "    <tr>\n",
       "      <th>id2377394</th>\n",
       "      <td>2016-06-12 00:43:35</td>\n",
       "      <td>9.806335</td>\n",
       "    </tr>\n",
       "    <tr>\n",
       "      <th>id3858529</th>\n",
       "      <td>2016-01-19 11:35:24</td>\n",
       "      <td>10.822034</td>\n",
       "    </tr>\n",
       "    <tr>\n",
       "      <th>id3504673</th>\n",
       "      <td>2016-04-06 19:32:31</td>\n",
       "      <td>12.461538</td>\n",
       "    </tr>\n",
       "    <tr>\n",
       "      <th>id2181028</th>\n",
       "      <td>2016-03-26 13:30:55</td>\n",
       "      <td>9.840000</td>\n",
       "    </tr>\n",
       "  </tbody>\n",
       "</table>\n",
       "</div>"
      ],
      "text/plain": [
       "              pickup_datetime  avg_speed(km/hr)\n",
       "id                                             \n",
       "id2875421 2016-03-14 17:24:55         11.860220\n",
       "id2377394 2016-06-12 00:43:35          9.806335\n",
       "id3858529 2016-01-19 11:35:24         10.822034\n",
       "id3504673 2016-04-06 19:32:31         12.461538\n",
       "id2181028 2016-03-26 13:30:55          9.840000"
      ]
     },
     "execution_count": 43,
     "metadata": {},
     "output_type": "execute_result"
    }
   ],
   "source": [
    "day_speed.head()"
   ]
  },
  {
   "cell_type": "code",
   "execution_count": 44,
   "id": "d19492e4",
   "metadata": {},
   "outputs": [
    {
     "data": {
      "text/html": [
       "<div>\n",
       "<style scoped>\n",
       "    .dataframe tbody tr th:only-of-type {\n",
       "        vertical-align: middle;\n",
       "    }\n",
       "\n",
       "    .dataframe tbody tr th {\n",
       "        vertical-align: top;\n",
       "    }\n",
       "\n",
       "    .dataframe thead th {\n",
       "        text-align: right;\n",
       "    }\n",
       "</style>\n",
       "<table border=\"1\" class=\"dataframe\">\n",
       "  <thead>\n",
       "    <tr style=\"text-align: right;\">\n",
       "      <th></th>\n",
       "      <th>avg_speed(km/hr)</th>\n",
       "    </tr>\n",
       "    <tr>\n",
       "      <th>pickup_datetime</th>\n",
       "      <th></th>\n",
       "    </tr>\n",
       "  </thead>\n",
       "  <tbody>\n",
       "    <tr>\n",
       "      <th>2016-01-01 00:00:00</th>\n",
       "      <td>15.019020</td>\n",
       "    </tr>\n",
       "    <tr>\n",
       "      <th>2016-01-01 01:00:00</th>\n",
       "      <td>14.912572</td>\n",
       "    </tr>\n",
       "    <tr>\n",
       "      <th>2016-01-01 02:00:00</th>\n",
       "      <td>16.311287</td>\n",
       "    </tr>\n",
       "    <tr>\n",
       "      <th>2016-01-01 03:00:00</th>\n",
       "      <td>16.999992</td>\n",
       "    </tr>\n",
       "    <tr>\n",
       "      <th>2016-01-01 04:00:00</th>\n",
       "      <td>17.716125</td>\n",
       "    </tr>\n",
       "  </tbody>\n",
       "</table>\n",
       "</div>"
      ],
      "text/plain": [
       "                     avg_speed(km/hr)\n",
       "pickup_datetime                      \n",
       "2016-01-01 00:00:00         15.019020\n",
       "2016-01-01 01:00:00         14.912572\n",
       "2016-01-01 02:00:00         16.311287\n",
       "2016-01-01 03:00:00         16.999992\n",
       "2016-01-01 04:00:00         17.716125"
      ]
     },
     "execution_count": 44,
     "metadata": {},
     "output_type": "execute_result"
    }
   ],
   "source": [
    "day_speed_df = day_speed.groupby(pd.Grouper(key='pickup_datetime', freq='60min')).mean().dropna()\n",
    "day_speed_df.head()"
   ]
  },
  {
   "cell_type": "code",
   "execution_count": 45,
   "id": "d3e3d377",
   "metadata": {},
   "outputs": [
    {
     "data": {
      "text/plain": [
       "([<matplotlib.axis.XTick at 0x7f1fc1244fa0>,\n",
       "  <matplotlib.axis.XTick at 0x7f1fc1244f70>,\n",
       "  <matplotlib.axis.XTick at 0x7f1fc1244c10>,\n",
       "  <matplotlib.axis.XTick at 0x7f1fb073c430>,\n",
       "  <matplotlib.axis.XTick at 0x7f1fb073cd00>,\n",
       "  <matplotlib.axis.XTick at 0x7f1fb073c5b0>,\n",
       "  <matplotlib.axis.XTick at 0x7f1fb0749640>,\n",
       "  <matplotlib.axis.XTick at 0x7f1fb072e430>,\n",
       "  <matplotlib.axis.XTick at 0x7f1fb0752430>,\n",
       "  <matplotlib.axis.XTick at 0x7f1fb0752b80>,\n",
       "  <matplotlib.axis.XTick at 0x7f1fc151f310>,\n",
       "  <matplotlib.axis.XTick at 0x7f1fb0752be0>,\n",
       "  <matplotlib.axis.XTick at 0x7f1fb0749970>,\n",
       "  <matplotlib.axis.XTick at 0x7f1fc151f940>,\n",
       "  <matplotlib.axis.XTick at 0x7f1fc15290d0>,\n",
       "  <matplotlib.axis.XTick at 0x7f1fc1529820>,\n",
       "  <matplotlib.axis.XTick at 0x7f1fc152d070>,\n",
       "  <matplotlib.axis.XTick at 0x7f1fc152d700>,\n",
       "  <matplotlib.axis.XTick at 0x7f1fc1529760>,\n",
       "  <matplotlib.axis.XTick at 0x7f1fb07492e0>,\n",
       "  <matplotlib.axis.XTick at 0x7f1fc152d280>,\n",
       "  <matplotlib.axis.XTick at 0x7f1fc1537280>,\n",
       "  <matplotlib.axis.XTick at 0x7f1fc15379d0>,\n",
       "  <matplotlib.axis.XTick at 0x7f1fc153c160>,\n",
       "  <matplotlib.axis.XTick at 0x7f1fc153c8b0>,\n",
       "  <matplotlib.axis.XTick at 0x7f1fc1537670>,\n",
       "  <matplotlib.axis.XTick at 0x7f1fb0752490>,\n",
       "  <matplotlib.axis.XTick at 0x7f1fc153c0a0>,\n",
       "  <matplotlib.axis.XTick at 0x7f1fc1545430>,\n",
       "  <matplotlib.axis.XTick at 0x7f1fc1545b80>,\n",
       "  <matplotlib.axis.XTick at 0x7f1fc154b310>,\n",
       "  <matplotlib.axis.XTick at 0x7f1fc154ba90>,\n",
       "  <matplotlib.axis.XTick at 0x7f1fc1545820>,\n",
       "  <matplotlib.axis.XTick at 0x7f1fb0749940>,\n",
       "  <matplotlib.axis.XTick at 0x7f1fc154b370>,\n",
       "  <matplotlib.axis.XTick at 0x7f1fc1553610>,\n",
       "  <matplotlib.axis.XTick at 0x7f1fc1553d60>,\n",
       "  <matplotlib.axis.XTick at 0x7f1fc15574f0>,\n",
       "  <matplotlib.axis.XTick at 0x7f1fc1557c40>,\n",
       "  <matplotlib.axis.XTick at 0x7f1fc1557430>,\n",
       "  <matplotlib.axis.XTick at 0x7f1fc1553190>,\n",
       "  <matplotlib.axis.XTick at 0x7f1fc14de130>,\n",
       "  <matplotlib.axis.XTick at 0x7f1fc14de7c0>,\n",
       "  <matplotlib.axis.XTick at 0x7f1fc14def10>,\n",
       "  <matplotlib.axis.XTick at 0x7f1fc14e66a0>,\n",
       "  <matplotlib.axis.XTick at 0x7f1fc14e6df0>,\n",
       "  <matplotlib.axis.XTick at 0x7f1fc14e65e0>,\n",
       "  <matplotlib.axis.XTick at 0x7f1fc14de340>,\n",
       "  <matplotlib.axis.XTick at 0x7f1fc14ec2e0>,\n",
       "  <matplotlib.axis.XTick at 0x7f1fc14ec970>,\n",
       "  <matplotlib.axis.XTick at 0x7f1fc14f5100>,\n",
       "  <matplotlib.axis.XTick at 0x7f1fc14f5850>,\n",
       "  <matplotlib.axis.XTick at 0x7f1fc14fb0a0>,\n",
       "  <matplotlib.axis.XTick at 0x7f1fc14f5880>,\n",
       "  <matplotlib.axis.XTick at 0x7f1fc14ecc40>,\n",
       "  <matplotlib.axis.XTick at 0x7f1fc14debe0>,\n",
       "  <matplotlib.axis.XTick at 0x7f1fc152da30>,\n",
       "  <matplotlib.axis.XTick at 0x7f1fc14fb4f0>,\n",
       "  <matplotlib.axis.XTick at 0x7f1fc14fbc40>,\n",
       "  <matplotlib.axis.XTick at 0x7f1fc15063d0>,\n",
       "  <matplotlib.axis.XTick at 0x7f1fc14fb940>,\n",
       "  <matplotlib.axis.XTick at 0x7f1fc14ec3d0>,\n",
       "  <matplotlib.axis.XTick at 0x7f1fc15063a0>,\n",
       "  <matplotlib.axis.XTick at 0x7f1fc1506f10>,\n",
       "  <matplotlib.axis.XTick at 0x7f1fc150d6a0>,\n",
       "  <matplotlib.axis.XTick at 0x7f1fc150ddf0>,\n",
       "  <matplotlib.axis.XTick at 0x7f1fc1515580>,\n",
       "  <matplotlib.axis.XTick at 0x7f1fc150d880>,\n",
       "  <matplotlib.axis.XTick at 0x7f1fc14f50a0>,\n",
       "  <matplotlib.axis.XTick at 0x7f1fc1515130>,\n",
       "  <matplotlib.axis.XTick at 0x7f1fc151c130>,\n",
       "  <matplotlib.axis.XTick at 0x7f1fc151c880>],\n",
       " [Text(0, 0, ''),\n",
       "  Text(0, 0, ''),\n",
       "  Text(0, 0, ''),\n",
       "  Text(0, 0, ''),\n",
       "  Text(0, 0, ''),\n",
       "  Text(0, 0, ''),\n",
       "  Text(0, 0, ''),\n",
       "  Text(0, 0, ''),\n",
       "  Text(0, 0, ''),\n",
       "  Text(0, 0, ''),\n",
       "  Text(0, 0, ''),\n",
       "  Text(0, 0, ''),\n",
       "  Text(0, 0, ''),\n",
       "  Text(0, 0, ''),\n",
       "  Text(0, 0, ''),\n",
       "  Text(0, 0, ''),\n",
       "  Text(0, 0, ''),\n",
       "  Text(0, 0, ''),\n",
       "  Text(0, 0, ''),\n",
       "  Text(0, 0, ''),\n",
       "  Text(0, 0, ''),\n",
       "  Text(0, 0, ''),\n",
       "  Text(0, 0, ''),\n",
       "  Text(0, 0, ''),\n",
       "  Text(0, 0, ''),\n",
       "  Text(0, 0, ''),\n",
       "  Text(0, 0, ''),\n",
       "  Text(0, 0, ''),\n",
       "  Text(0, 0, ''),\n",
       "  Text(0, 0, ''),\n",
       "  Text(0, 0, ''),\n",
       "  Text(0, 0, ''),\n",
       "  Text(0, 0, ''),\n",
       "  Text(0, 0, ''),\n",
       "  Text(0, 0, ''),\n",
       "  Text(0, 0, ''),\n",
       "  Text(0, 0, ''),\n",
       "  Text(0, 0, ''),\n",
       "  Text(0, 0, ''),\n",
       "  Text(0, 0, ''),\n",
       "  Text(0, 0, ''),\n",
       "  Text(0, 0, ''),\n",
       "  Text(0, 0, ''),\n",
       "  Text(0, 0, ''),\n",
       "  Text(0, 0, ''),\n",
       "  Text(0, 0, ''),\n",
       "  Text(0, 0, ''),\n",
       "  Text(0, 0, ''),\n",
       "  Text(0, 0, ''),\n",
       "  Text(0, 0, ''),\n",
       "  Text(0, 0, ''),\n",
       "  Text(0, 0, ''),\n",
       "  Text(0, 0, ''),\n",
       "  Text(0, 0, ''),\n",
       "  Text(0, 0, ''),\n",
       "  Text(0, 0, ''),\n",
       "  Text(0, 0, ''),\n",
       "  Text(0, 0, ''),\n",
       "  Text(0, 0, ''),\n",
       "  Text(0, 0, ''),\n",
       "  Text(0, 0, ''),\n",
       "  Text(0, 0, ''),\n",
       "  Text(0, 0, ''),\n",
       "  Text(0, 0, ''),\n",
       "  Text(0, 0, ''),\n",
       "  Text(0, 0, ''),\n",
       "  Text(0, 0, ''),\n",
       "  Text(0, 0, ''),\n",
       "  Text(0, 0, ''),\n",
       "  Text(0, 0, ''),\n",
       "  Text(0, 0, ''),\n",
       "  Text(0, 0, '')])"
      ]
     },
     "execution_count": 45,
     "metadata": {},
     "output_type": "execute_result"
    },
    {
     "data": {
      "image/png": "[encoded data removed]",
      "text/plain": [
       "<Figure size 1440x288 with 1 Axes>"
      ]
     },
     "metadata": {},
     "output_type": "display_data"
    }
   ],
   "source": [
    "plt.figure(figsize=(20, 4))\n",
    "plt.plot(day_speed_df.index[:24],day_speed_df.values[:24])\n",
    "plt.plot(day_speed_df.index[24:48],day_speed_df.values[24:48])\n",
    "plt.plot(day_speed_df.index[48:72],day_speed_df.values[48:72])\n",
    "plt.xticks(rotation=90)\n",
    "plt.xticks(day_speed_df.index[:72])"
   ]
  },
  {
   "cell_type": "markdown",
   "id": "378f1935",
   "metadata": {},
   "source": [
    "From the graphs it is seen that at around 5am to 8am the highest average speeds are archieved around 22km/hr to 27km/hr. This can be caused by people rushing to work. <br>\n",
    "The slowest speeds are around 5pm to 8pm. This is when the taxis travel the slowest below 14km/hr. This can be due to traffic when everyone is returning from work and because people are not necessary in a rush when returning from work."
   ]
  }
 ],
 "metadata": {
  "kernelspec": {
   "display_name": "Python 3",
   "language": "python",
   "name": "python3"
  },
  "language_info": {
   "codemirror_mode": {
    "name": "ipython",
    "version": 3
   },
   "file_extension": ".py",
   "mimetype": "text/x-python",
   "name": "python",
   "nbconvert_exporter": "python",
   "pygments_lexer": "ipython3",
   "version": "3.8.10"
  }
 },
 "nbformat": 4,
 "nbformat_minor": 5
}
