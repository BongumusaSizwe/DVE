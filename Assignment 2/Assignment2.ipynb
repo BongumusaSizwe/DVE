{
 "cells": [
  {
   "cell_type": "code",
   "execution_count": 2,
   "id": "f1f557c2",
   "metadata": {},
   "outputs": [],
   "source": [
    "import pandas as pd\n",
    "import seaborn as sns\n",
    "import numpy as np\n",
    "sns.set_theme(style=\"white\")\n",
    "\n",
    "import scipy.cluster.hierarchy as shc\n",
    "import matplotlib.pyplot as plt\n",
    "%matplotlib inline\n",
    "import math\n",
    "\n",
    "from pandas.tseries.holiday import USFederalHolidayCalendar as calendar\n"
   ]
  },
  {
   "cell_type": "code",
   "execution_count": 3,
   "id": "fb5741b6",
   "metadata": {},
   "outputs": [],
   "source": [
    "df = pd.read_csv('nyc_taxis.csv', index_col = 'id')"
   ]
  },
  {
   "cell_type": "code",
   "execution_count": 4,
   "id": "fc148491",
   "metadata": {},
   "outputs": [
    {
     "data": {
      "text/html": [
       "<div>\n",
       "<style scoped>\n",
       "    .dataframe tbody tr th:only-of-type {\n",
       "        vertical-align: middle;\n",
       "    }\n",
       "\n",
       "    .dataframe tbody tr th {\n",
       "        vertical-align: top;\n",
       "    }\n",
       "\n",
       "    .dataframe thead th {\n",
       "        text-align: right;\n",
       "    }\n",
       "</style>\n",
       "<table border=\"1\" class=\"dataframe\">\n",
       "  <thead>\n",
       "    <tr style=\"text-align: right;\">\n",
       "      <th></th>\n",
       "      <th>vendor_id</th>\n",
       "      <th>pickup_datetime</th>\n",
       "      <th>dropoff_datetime</th>\n",
       "      <th>passenger_count</th>\n",
       "      <th>pickup_longitude</th>\n",
       "      <th>pickup_latitude</th>\n",
       "      <th>dropoff_longitude</th>\n",
       "      <th>dropoff_latitude</th>\n",
       "      <th>store_and_fwd_flag</th>\n",
       "      <th>trip_duration</th>\n",
       "    </tr>\n",
       "    <tr>\n",
       "      <th>id</th>\n",
       "      <th></th>\n",
       "      <th></th>\n",
       "      <th></th>\n",
       "      <th></th>\n",
       "      <th></th>\n",
       "      <th></th>\n",
       "      <th></th>\n",
       "      <th></th>\n",
       "      <th></th>\n",
       "      <th></th>\n",
       "    </tr>\n",
       "  </thead>\n",
       "  <tbody>\n",
       "    <tr>\n",
       "      <th>id2875421</th>\n",
       "      <td>2</td>\n",
       "      <td>2016-03-14 17:24:55</td>\n",
       "      <td>2016-03-14 17:32:30</td>\n",
       "      <td>1</td>\n",
       "      <td>-73.982155</td>\n",
       "      <td>40.767937</td>\n",
       "      <td>-73.964630</td>\n",
       "      <td>40.765602</td>\n",
       "      <td>N</td>\n",
       "      <td>455</td>\n",
       "    </tr>\n",
       "    <tr>\n",
       "      <th>id2377394</th>\n",
       "      <td>1</td>\n",
       "      <td>2016-06-12 00:43:35</td>\n",
       "      <td>2016-06-12 00:54:38</td>\n",
       "      <td>1</td>\n",
       "      <td>-73.980415</td>\n",
       "      <td>40.738564</td>\n",
       "      <td>-73.999481</td>\n",
       "      <td>40.731152</td>\n",
       "      <td>N</td>\n",
       "      <td>663</td>\n",
       "    </tr>\n",
       "    <tr>\n",
       "      <th>id3858529</th>\n",
       "      <td>2</td>\n",
       "      <td>2016-01-19 11:35:24</td>\n",
       "      <td>2016-01-19 12:10:48</td>\n",
       "      <td>1</td>\n",
       "      <td>-73.979027</td>\n",
       "      <td>40.763939</td>\n",
       "      <td>-74.005333</td>\n",
       "      <td>40.710087</td>\n",
       "      <td>N</td>\n",
       "      <td>2124</td>\n",
       "    </tr>\n",
       "    <tr>\n",
       "      <th>id3504673</th>\n",
       "      <td>2</td>\n",
       "      <td>2016-04-06 19:32:31</td>\n",
       "      <td>2016-04-06 19:39:40</td>\n",
       "      <td>1</td>\n",
       "      <td>-74.010040</td>\n",
       "      <td>40.719971</td>\n",
       "      <td>-74.012268</td>\n",
       "      <td>40.706718</td>\n",
       "      <td>N</td>\n",
       "      <td>429</td>\n",
       "    </tr>\n",
       "    <tr>\n",
       "      <th>id2181028</th>\n",
       "      <td>2</td>\n",
       "      <td>2016-03-26 13:30:55</td>\n",
       "      <td>2016-03-26 13:38:10</td>\n",
       "      <td>1</td>\n",
       "      <td>-73.973053</td>\n",
       "      <td>40.793209</td>\n",
       "      <td>-73.972923</td>\n",
       "      <td>40.782520</td>\n",
       "      <td>N</td>\n",
       "      <td>435</td>\n",
       "    </tr>\n",
       "  </tbody>\n",
       "</table>\n",
       "</div>"
      ],
      "text/plain": [
       "           vendor_id      pickup_datetime     dropoff_datetime  \\\n",
       "id                                                               \n",
       "id2875421          2  2016-03-14 17:24:55  2016-03-14 17:32:30   \n",
       "id2377394          1  2016-06-12 00:43:35  2016-06-12 00:54:38   \n",
       "id3858529          2  2016-01-19 11:35:24  2016-01-19 12:10:48   \n",
       "id3504673          2  2016-04-06 19:32:31  2016-04-06 19:39:40   \n",
       "id2181028          2  2016-03-26 13:30:55  2016-03-26 13:38:10   \n",
       "\n",
       "           passenger_count  pickup_longitude  pickup_latitude  \\\n",
       "id                                                              \n",
       "id2875421                1        -73.982155        40.767937   \n",
       "id2377394                1        -73.980415        40.738564   \n",
       "id3858529                1        -73.979027        40.763939   \n",
       "id3504673                1        -74.010040        40.719971   \n",
       "id2181028                1        -73.973053        40.793209   \n",
       "\n",
       "           dropoff_longitude  dropoff_latitude store_and_fwd_flag  \\\n",
       "id                                                                  \n",
       "id2875421         -73.964630         40.765602                  N   \n",
       "id2377394         -73.999481         40.731152                  N   \n",
       "id3858529         -74.005333         40.710087                  N   \n",
       "id3504673         -74.012268         40.706718                  N   \n",
       "id2181028         -73.972923         40.782520                  N   \n",
       "\n",
       "           trip_duration  \n",
       "id                        \n",
       "id2875421            455  \n",
       "id2377394            663  \n",
       "id3858529           2124  \n",
       "id3504673            429  \n",
       "id2181028            435  "
      ]
     },
     "execution_count": 4,
     "metadata": {},
     "output_type": "execute_result"
    }
   ],
   "source": [
    "df.head()"
   ]
  },
  {
   "cell_type": "code",
   "execution_count": 5,
   "id": "9dd67d82",
   "metadata": {},
   "outputs": [
    {
     "name": "stdout",
     "output_type": "stream",
     "text": [
      "<class 'pandas.core.frame.DataFrame'>\n",
      "Index: 1458644 entries, id2875421 to id1209952\n",
      "Data columns (total 10 columns):\n",
      " #   Column              Non-Null Count    Dtype  \n",
      "---  ------              --------------    -----  \n",
      " 0   vendor_id           1458644 non-null  int64  \n",
      " 1   pickup_datetime     1458644 non-null  object \n",
      " 2   dropoff_datetime    1458644 non-null  object \n",
      " 3   passenger_count     1458644 non-null  int64  \n",
      " 4   pickup_longitude    1458644 non-null  float64\n",
      " 5   pickup_latitude     1458644 non-null  float64\n",
      " 6   dropoff_longitude   1458644 non-null  float64\n",
      " 7   dropoff_latitude    1458644 non-null  float64\n",
      " 8   store_and_fwd_flag  1458644 non-null  object \n",
      " 9   trip_duration       1458644 non-null  int64  \n",
      "dtypes: float64(4), int64(3), object(3)\n",
      "memory usage: 122.4+ MB\n"
     ]
    }
   ],
   "source": [
    "df.info()"
   ]
  },
  {
   "cell_type": "markdown",
   "id": "631cd113",
   "metadata": {},
   "source": [
    "# Question 1.1"
   ]
  },
  {
   "cell_type": "code",
   "execution_count": 6,
   "id": "4867c25a",
   "metadata": {},
   "outputs": [
    {
     "data": {
      "image/png": "[encoded data removed]",
      "text/plain": [
       "<Figure size 1080x1080 with 6 Axes>"
      ]
     },
     "metadata": {
      "needs_background": "light"
     },
     "output_type": "display_data"
    }
   ],
   "source": [
    "cols=['passenger_count','pickup_longitude','pickup_latitude','dropoff_longitude','dropoff_latitude','trip_duration']\n",
    "fig, axes = plt.subplots(nrows = 3, ncols = 2)  \n",
    "axes = axes.flatten()         \n",
    "fig.set_size_inches(15, 15)\n",
    "fig.subplots_adjust(hspace=0.5)\n",
    "\n",
    "for ax, col in zip(axes, df[cols]):\n",
    "    sns.boxplot(x = df[col], ax = ax)\n",
    "    ax.set_title(col)"
   ]
  },
  {
   "cell_type": "markdown",
   "id": "591b0d8e",
   "metadata": {},
   "source": [
    "Looking at trip_duration, we can see clear ouliers from the rest of the data. Will remove these outliers."
   ]
  },
  {
   "cell_type": "code",
   "execution_count": 7,
   "id": "cd2e694e",
   "metadata": {},
   "outputs": [],
   "source": [
    "df = df[df['trip_duration'] < 1.5e6]"
   ]
  },
  {
   "cell_type": "code",
   "execution_count": 8,
   "id": "919e9176",
   "metadata": {},
   "outputs": [
    {
     "data": {
      "image/png": "[encoded data removed]",
      "text/plain": [
       "<Figure size 1080x1080 with 6 Axes>"
      ]
     },
     "metadata": {
      "needs_background": "light"
     },
     "output_type": "display_data"
    }
   ],
   "source": [
    "fig, axes = plt.subplots(nrows = 3, ncols = 2)  \n",
    "axes = axes.flatten()         \n",
    "fig.set_size_inches(15, 15)\n",
    "fig.subplots_adjust(hspace=0.5)\n",
    "\n",
    "for ax, col in zip(axes, df[cols]):\n",
    "    sns.boxplot(x = df[col], ax = ax)\n",
    "    ax.set_title(col)"
   ]
  },
  {
   "cell_type": "markdown",
   "id": "2a45312d",
   "metadata": {},
   "source": [
    "Removed 4 most outliers of the trip_deration from the data <br>\n",
    "We can remove these outliers since it is not normal to come across these points in the data."
   ]
  },
  {
   "cell_type": "markdown",
   "id": "5ae973b8",
   "metadata": {},
   "source": [
    "# Qusetion1.2"
   ]
  },
  {
   "cell_type": "code",
   "execution_count": 9,
   "id": "632baeff",
   "metadata": {},
   "outputs": [],
   "source": [
    "df['pickup_datetime'] = pd.to_datetime(df['pickup_datetime'])\n",
    "df['dropoff_datetime'] = pd.to_datetime(df['dropoff_datetime'])"
   ]
  },
  {
   "cell_type": "code",
   "execution_count": 10,
   "id": "0a09b106",
   "metadata": {},
   "outputs": [
    {
     "name": "stdout",
     "output_type": "stream",
     "text": [
      "<class 'pandas.core.frame.DataFrame'>\n",
      "Index: 1458640 entries, id2875421 to id1209952\n",
      "Data columns (total 10 columns):\n",
      " #   Column              Non-Null Count    Dtype         \n",
      "---  ------              --------------    -----         \n",
      " 0   vendor_id           1458640 non-null  int64         \n",
      " 1   pickup_datetime     1458640 non-null  datetime64[ns]\n",
      " 2   dropoff_datetime    1458640 non-null  datetime64[ns]\n",
      " 3   passenger_count     1458640 non-null  int64         \n",
      " 4   pickup_longitude    1458640 non-null  float64       \n",
      " 5   pickup_latitude     1458640 non-null  float64       \n",
      " 6   dropoff_longitude   1458640 non-null  float64       \n",
      " 7   dropoff_latitude    1458640 non-null  float64       \n",
      " 8   store_and_fwd_flag  1458640 non-null  object        \n",
      " 9   trip_duration       1458640 non-null  int64         \n",
      "dtypes: datetime64[ns](2), float64(4), int64(3), object(1)\n",
      "memory usage: 122.4+ MB\n"
     ]
    }
   ],
   "source": [
    "df.info()"
   ]
  },
  {
   "cell_type": "code",
   "execution_count": 11,
   "id": "353d6d8b",
   "metadata": {},
   "outputs": [],
   "source": [
    "#Distance of trip\n",
    "#### distance features\n",
    "df['dist_long'] = df['pickup_longitude'] - df['dropoff_longitude']\n",
    "\n",
    "\n",
    "df['dist_lat'] = df['pickup_latitude'] - df['dropoff_latitude']\n",
    "\n",
    "\n",
    "df['trip_dist'] = np.sqrt(np.square(df['dist_long']) + np.square(df['dist_lat']))\n",
    "\n",
    "df.drop(['dist_long','dist_lat'], axis='columns', inplace=True)\n",
    "\n",
    "#Adding day of week\n",
    "df['pickup_weekday'] = df['pickup_datetime'].dt.weekday\n",
    "\n",
    "df['dropoff_weekday'] = df['dropoff_datetime'].dt.weekday\n",
    "\n",
    "#speed\n",
    "df['ave_speed'] = 1000000 * df['trip_dist'] / df['trip_duration']\n",
    "\n",
    "df['ave_speed'] = df['ave_speed'].round(decimals = 0)"
   ]
  },
  {
   "cell_type": "code",
   "execution_count": 12,
   "id": "736ede5e",
   "metadata": {},
   "outputs": [
    {
     "data": {
      "text/html": [
       "<div>\n",
       "<style scoped>\n",
       "    .dataframe tbody tr th:only-of-type {\n",
       "        vertical-align: middle;\n",
       "    }\n",
       "\n",
       "    .dataframe tbody tr th {\n",
       "        vertical-align: top;\n",
       "    }\n",
       "\n",
       "    .dataframe thead th {\n",
       "        text-align: right;\n",
       "    }\n",
       "</style>\n",
       "<table border=\"1\" class=\"dataframe\">\n",
       "  <thead>\n",
       "    <tr style=\"text-align: right;\">\n",
       "      <th></th>\n",
       "      <th>vendor_id</th>\n",
       "      <th>pickup_datetime</th>\n",
       "      <th>dropoff_datetime</th>\n",
       "      <th>passenger_count</th>\n",
       "      <th>pickup_longitude</th>\n",
       "      <th>pickup_latitude</th>\n",
       "      <th>dropoff_longitude</th>\n",
       "      <th>dropoff_latitude</th>\n",
       "      <th>store_and_fwd_flag</th>\n",
       "      <th>trip_duration</th>\n",
       "      <th>trip_dist</th>\n",
       "      <th>pickup_weekday</th>\n",
       "      <th>dropoff_weekday</th>\n",
       "      <th>ave_speed</th>\n",
       "    </tr>\n",
       "    <tr>\n",
       "      <th>id</th>\n",
       "      <th></th>\n",
       "      <th></th>\n",
       "      <th></th>\n",
       "      <th></th>\n",
       "      <th></th>\n",
       "      <th></th>\n",
       "      <th></th>\n",
       "      <th></th>\n",
       "      <th></th>\n",
       "      <th></th>\n",
       "      <th></th>\n",
       "      <th></th>\n",
       "      <th></th>\n",
       "      <th></th>\n",
       "    </tr>\n",
       "  </thead>\n",
       "  <tbody>\n",
       "    <tr>\n",
       "      <th>id2875421</th>\n",
       "      <td>2</td>\n",
       "      <td>2016-03-14 17:24:55</td>\n",
       "      <td>2016-03-14 17:32:30</td>\n",
       "      <td>1</td>\n",
       "      <td>-73.982155</td>\n",
       "      <td>40.767937</td>\n",
       "      <td>-73.964630</td>\n",
       "      <td>40.765602</td>\n",
       "      <td>N</td>\n",
       "      <td>455</td>\n",
       "      <td>0.017680</td>\n",
       "      <td>0</td>\n",
       "      <td>0</td>\n",
       "      <td>39.0</td>\n",
       "    </tr>\n",
       "    <tr>\n",
       "      <th>id2377394</th>\n",
       "      <td>1</td>\n",
       "      <td>2016-06-12 00:43:35</td>\n",
       "      <td>2016-06-12 00:54:38</td>\n",
       "      <td>1</td>\n",
       "      <td>-73.980415</td>\n",
       "      <td>40.738564</td>\n",
       "      <td>-73.999481</td>\n",
       "      <td>40.731152</td>\n",
       "      <td>N</td>\n",
       "      <td>663</td>\n",
       "      <td>0.020456</td>\n",
       "      <td>6</td>\n",
       "      <td>6</td>\n",
       "      <td>31.0</td>\n",
       "    </tr>\n",
       "    <tr>\n",
       "      <th>id3858529</th>\n",
       "      <td>2</td>\n",
       "      <td>2016-01-19 11:35:24</td>\n",
       "      <td>2016-01-19 12:10:48</td>\n",
       "      <td>1</td>\n",
       "      <td>-73.979027</td>\n",
       "      <td>40.763939</td>\n",
       "      <td>-74.005333</td>\n",
       "      <td>40.710087</td>\n",
       "      <td>N</td>\n",
       "      <td>2124</td>\n",
       "      <td>0.059934</td>\n",
       "      <td>1</td>\n",
       "      <td>1</td>\n",
       "      <td>28.0</td>\n",
       "    </tr>\n",
       "    <tr>\n",
       "      <th>id3504673</th>\n",
       "      <td>2</td>\n",
       "      <td>2016-04-06 19:32:31</td>\n",
       "      <td>2016-04-06 19:39:40</td>\n",
       "      <td>1</td>\n",
       "      <td>-74.010040</td>\n",
       "      <td>40.719971</td>\n",
       "      <td>-74.012268</td>\n",
       "      <td>40.706718</td>\n",
       "      <td>N</td>\n",
       "      <td>429</td>\n",
       "      <td>0.013438</td>\n",
       "      <td>2</td>\n",
       "      <td>2</td>\n",
       "      <td>31.0</td>\n",
       "    </tr>\n",
       "    <tr>\n",
       "      <th>id2181028</th>\n",
       "      <td>2</td>\n",
       "      <td>2016-03-26 13:30:55</td>\n",
       "      <td>2016-03-26 13:38:10</td>\n",
       "      <td>1</td>\n",
       "      <td>-73.973053</td>\n",
       "      <td>40.793209</td>\n",
       "      <td>-73.972923</td>\n",
       "      <td>40.782520</td>\n",
       "      <td>N</td>\n",
       "      <td>435</td>\n",
       "      <td>0.010690</td>\n",
       "      <td>5</td>\n",
       "      <td>5</td>\n",
       "      <td>25.0</td>\n",
       "    </tr>\n",
       "  </tbody>\n",
       "</table>\n",
       "</div>"
      ],
      "text/plain": [
       "           vendor_id     pickup_datetime    dropoff_datetime  passenger_count  \\\n",
       "id                                                                              \n",
       "id2875421          2 2016-03-14 17:24:55 2016-03-14 17:32:30                1   \n",
       "id2377394          1 2016-06-12 00:43:35 2016-06-12 00:54:38                1   \n",
       "id3858529          2 2016-01-19 11:35:24 2016-01-19 12:10:48                1   \n",
       "id3504673          2 2016-04-06 19:32:31 2016-04-06 19:39:40                1   \n",
       "id2181028          2 2016-03-26 13:30:55 2016-03-26 13:38:10                1   \n",
       "\n",
       "           pickup_longitude  pickup_latitude  dropoff_longitude  \\\n",
       "id                                                                \n",
       "id2875421        -73.982155        40.767937         -73.964630   \n",
       "id2377394        -73.980415        40.738564         -73.999481   \n",
       "id3858529        -73.979027        40.763939         -74.005333   \n",
       "id3504673        -74.010040        40.719971         -74.012268   \n",
       "id2181028        -73.973053        40.793209         -73.972923   \n",
       "\n",
       "           dropoff_latitude store_and_fwd_flag  trip_duration  trip_dist  \\\n",
       "id                                                                         \n",
       "id2875421         40.765602                  N            455   0.017680   \n",
       "id2377394         40.731152                  N            663   0.020456   \n",
       "id3858529         40.710087                  N           2124   0.059934   \n",
       "id3504673         40.706718                  N            429   0.013438   \n",
       "id2181028         40.782520                  N            435   0.010690   \n",
       "\n",
       "           pickup_weekday  dropoff_weekday  ave_speed  \n",
       "id                                                     \n",
       "id2875421               0                0       39.0  \n",
       "id2377394               6                6       31.0  \n",
       "id3858529               1                1       28.0  \n",
       "id3504673               2                2       31.0  \n",
       "id2181028               5                5       25.0  "
      ]
     },
     "execution_count": 12,
     "metadata": {},
     "output_type": "execute_result"
    }
   ],
   "source": [
    "df.head()"
   ]
  },
  {
   "cell_type": "markdown",
   "id": "663abab3",
   "metadata": {},
   "source": [
    "# Qusetion 1.3"
   ]
  },
  {
   "cell_type": "markdown",
   "id": "3ca4514f",
   "metadata": {},
   "source": [
    "### Question 1.3.1"
   ]
  },
  {
   "cell_type": "code",
   "execution_count": 14,
   "id": "77e386e7",
   "metadata": {},
   "outputs": [],
   "source": [
    "def plot_distribution(dataset, cols=5, width=20, height=15, hspace=0.2, wspace=0.5):\n",
    "    plt.style.use('seaborn-whitegrid')\n",
    "    fig = plt.figure(figsize=(width,height))\n",
    "    fig.subplots_adjust(left=None, bottom=None, right=None, top=None, wspace=wspace, hspace=hspace)\n",
    "    rows = math.ceil(float(dataset.shape[1]) / cols)\n",
    "    for i, column in enumerate(dataset.columns):\n",
    "        ax = fig.add_subplot(rows, cols, i + 1)\n",
    "        ax.set_title(column)\n",
    "        if dataset.dtypes[column] == object:\n",
    "            g = sns.countplot(y=column, data=dataset)\n",
    "            substrings = [s.get_text()[:18] for s in g.get_yticklabels()]\n",
    "            g.set(yticklabels=substrings)\n",
    "            plt.xticks(rotation=25)\n",
    "        else:\n",
    "            g = sns.distplot(dataset[column])\n",
    "            plt.xticks(rotation=25)"
   ]
  },
  {
   "cell_type": "code",
   "execution_count": 15,
   "id": "46822ec0",
   "metadata": {},
   "outputs": [
    {
     "name": "stderr",
     "output_type": "stream",
     "text": [
      "/home/siyabonga/.local/lib/python3.8/site-packages/seaborn/distributions.py:2551: FutureWarning: `distplot` is a deprecated function and will be removed in a future version. Please adapt your code to use either `displot` (a figure-level function with similar flexibility) or `histplot` (an axes-level function for histograms).\n",
      "  warnings.warn(msg, FutureWarning)\n"
     ]
    },
    {
     "data": {
      "image/png": "[encoded data removed]",
      "text/plain": [
       "<Figure size 1440x360 with 1 Axes>"
      ]
     },
     "metadata": {},
     "output_type": "display_data"
    }
   ],
   "source": [
    "plot_distribution(df[['pickup_weekday']], cols=3, width=20, height=5, hspace=0.5, wspace=0.5)"
   ]
  },
  {
   "cell_type": "code",
   "execution_count": 16,
   "id": "37621ed1",
   "metadata": {},
   "outputs": [
    {
     "data": {
      "text/plain": [
       "4"
      ]
     },
     "execution_count": 16,
     "metadata": {},
     "output_type": "execute_result"
    }
   ],
   "source": [
    "df['pickup_weekday'].value_counts().idxmax()"
   ]
  },
  {
   "cell_type": "markdown",
   "id": "e58abfbc",
   "metadata": {},
   "source": [
    "Most popular day is friday which is 4"
   ]
  },
  {
   "cell_type": "markdown",
   "id": "8f85d1d5",
   "metadata": {},
   "source": [
    "### Question 1.3.2"
   ]
  },
  {
   "cell_type": "code",
   "execution_count": 17,
   "id": "b7eb5f75",
   "metadata": {},
   "outputs": [],
   "source": [
    "df['pickup_hour'] = df['pickup_datetime'].dt.hour"
   ]
  },
  {
   "cell_type": "code",
   "execution_count": 18,
   "id": "8d6a7ce3",
   "metadata": {},
   "outputs": [
    {
     "data": {
      "text/html": [
       "<div>\n",
       "<style scoped>\n",
       "    .dataframe tbody tr th:only-of-type {\n",
       "        vertical-align: middle;\n",
       "    }\n",
       "\n",
       "    .dataframe tbody tr th {\n",
       "        vertical-align: top;\n",
       "    }\n",
       "\n",
       "    .dataframe thead th {\n",
       "        text-align: right;\n",
       "    }\n",
       "</style>\n",
       "<table border=\"1\" class=\"dataframe\">\n",
       "  <thead>\n",
       "    <tr style=\"text-align: right;\">\n",
       "      <th></th>\n",
       "      <th>vendor_id</th>\n",
       "      <th>pickup_datetime</th>\n",
       "      <th>dropoff_datetime</th>\n",
       "      <th>passenger_count</th>\n",
       "      <th>pickup_longitude</th>\n",
       "      <th>pickup_latitude</th>\n",
       "      <th>dropoff_longitude</th>\n",
       "      <th>dropoff_latitude</th>\n",
       "      <th>store_and_fwd_flag</th>\n",
       "      <th>trip_duration</th>\n",
       "      <th>trip_dist</th>\n",
       "      <th>pickup_weekday</th>\n",
       "      <th>dropoff_weekday</th>\n",
       "      <th>ave_speed</th>\n",
       "      <th>pickup_hour</th>\n",
       "    </tr>\n",
       "    <tr>\n",
       "      <th>id</th>\n",
       "      <th></th>\n",
       "      <th></th>\n",
       "      <th></th>\n",
       "      <th></th>\n",
       "      <th></th>\n",
       "      <th></th>\n",
       "      <th></th>\n",
       "      <th></th>\n",
       "      <th></th>\n",
       "      <th></th>\n",
       "      <th></th>\n",
       "      <th></th>\n",
       "      <th></th>\n",
       "      <th></th>\n",
       "      <th></th>\n",
       "    </tr>\n",
       "  </thead>\n",
       "  <tbody>\n",
       "    <tr>\n",
       "      <th>id2875421</th>\n",
       "      <td>2</td>\n",
       "      <td>2016-03-14 17:24:55</td>\n",
       "      <td>2016-03-14 17:32:30</td>\n",
       "      <td>1</td>\n",
       "      <td>-73.982155</td>\n",
       "      <td>40.767937</td>\n",
       "      <td>-73.964630</td>\n",
       "      <td>40.765602</td>\n",
       "      <td>N</td>\n",
       "      <td>455</td>\n",
       "      <td>0.017680</td>\n",
       "      <td>0</td>\n",
       "      <td>0</td>\n",
       "      <td>39.0</td>\n",
       "      <td>17</td>\n",
       "    </tr>\n",
       "    <tr>\n",
       "      <th>id2377394</th>\n",
       "      <td>1</td>\n",
       "      <td>2016-06-12 00:43:35</td>\n",
       "      <td>2016-06-12 00:54:38</td>\n",
       "      <td>1</td>\n",
       "      <td>-73.980415</td>\n",
       "      <td>40.738564</td>\n",
       "      <td>-73.999481</td>\n",
       "      <td>40.731152</td>\n",
       "      <td>N</td>\n",
       "      <td>663</td>\n",
       "      <td>0.020456</td>\n",
       "      <td>6</td>\n",
       "      <td>6</td>\n",
       "      <td>31.0</td>\n",
       "      <td>0</td>\n",
       "    </tr>\n",
       "    <tr>\n",
       "      <th>id3858529</th>\n",
       "      <td>2</td>\n",
       "      <td>2016-01-19 11:35:24</td>\n",
       "      <td>2016-01-19 12:10:48</td>\n",
       "      <td>1</td>\n",
       "      <td>-73.979027</td>\n",
       "      <td>40.763939</td>\n",
       "      <td>-74.005333</td>\n",
       "      <td>40.710087</td>\n",
       "      <td>N</td>\n",
       "      <td>2124</td>\n",
       "      <td>0.059934</td>\n",
       "      <td>1</td>\n",
       "      <td>1</td>\n",
       "      <td>28.0</td>\n",
       "      <td>11</td>\n",
       "    </tr>\n",
       "    <tr>\n",
       "      <th>id3504673</th>\n",
       "      <td>2</td>\n",
       "      <td>2016-04-06 19:32:31</td>\n",
       "      <td>2016-04-06 19:39:40</td>\n",
       "      <td>1</td>\n",
       "      <td>-74.010040</td>\n",
       "      <td>40.719971</td>\n",
       "      <td>-74.012268</td>\n",
       "      <td>40.706718</td>\n",
       "      <td>N</td>\n",
       "      <td>429</td>\n",
       "      <td>0.013438</td>\n",
       "      <td>2</td>\n",
       "      <td>2</td>\n",
       "      <td>31.0</td>\n",
       "      <td>19</td>\n",
       "    </tr>\n",
       "    <tr>\n",
       "      <th>id2181028</th>\n",
       "      <td>2</td>\n",
       "      <td>2016-03-26 13:30:55</td>\n",
       "      <td>2016-03-26 13:38:10</td>\n",
       "      <td>1</td>\n",
       "      <td>-73.973053</td>\n",
       "      <td>40.793209</td>\n",
       "      <td>-73.972923</td>\n",
       "      <td>40.782520</td>\n",
       "      <td>N</td>\n",
       "      <td>435</td>\n",
       "      <td>0.010690</td>\n",
       "      <td>5</td>\n",
       "      <td>5</td>\n",
       "      <td>25.0</td>\n",
       "      <td>13</td>\n",
       "    </tr>\n",
       "  </tbody>\n",
       "</table>\n",
       "</div>"
      ],
      "text/plain": [
       "           vendor_id     pickup_datetime    dropoff_datetime  passenger_count  \\\n",
       "id                                                                              \n",
       "id2875421          2 2016-03-14 17:24:55 2016-03-14 17:32:30                1   \n",
       "id2377394          1 2016-06-12 00:43:35 2016-06-12 00:54:38                1   \n",
       "id3858529          2 2016-01-19 11:35:24 2016-01-19 12:10:48                1   \n",
       "id3504673          2 2016-04-06 19:32:31 2016-04-06 19:39:40                1   \n",
       "id2181028          2 2016-03-26 13:30:55 2016-03-26 13:38:10                1   \n",
       "\n",
       "           pickup_longitude  pickup_latitude  dropoff_longitude  \\\n",
       "id                                                                \n",
       "id2875421        -73.982155        40.767937         -73.964630   \n",
       "id2377394        -73.980415        40.738564         -73.999481   \n",
       "id3858529        -73.979027        40.763939         -74.005333   \n",
       "id3504673        -74.010040        40.719971         -74.012268   \n",
       "id2181028        -73.973053        40.793209         -73.972923   \n",
       "\n",
       "           dropoff_latitude store_and_fwd_flag  trip_duration  trip_dist  \\\n",
       "id                                                                         \n",
       "id2875421         40.765602                  N            455   0.017680   \n",
       "id2377394         40.731152                  N            663   0.020456   \n",
       "id3858529         40.710087                  N           2124   0.059934   \n",
       "id3504673         40.706718                  N            429   0.013438   \n",
       "id2181028         40.782520                  N            435   0.010690   \n",
       "\n",
       "           pickup_weekday  dropoff_weekday  ave_speed  pickup_hour  \n",
       "id                                                                  \n",
       "id2875421               0                0       39.0           17  \n",
       "id2377394               6                6       31.0            0  \n",
       "id3858529               1                1       28.0           11  \n",
       "id3504673               2                2       31.0           19  \n",
       "id2181028               5                5       25.0           13  "
      ]
     },
     "execution_count": 18,
     "metadata": {},
     "output_type": "execute_result"
    }
   ],
   "source": [
    "df.head()"
   ]
  },
  {
   "cell_type": "code",
   "execution_count": 19,
   "id": "5d495a27",
   "metadata": {},
   "outputs": [],
   "source": [
    "peak_hour_of_day = df.groupby('pickup_weekday').agg({'pickup_hour':pd.Series.mode})"
   ]
  },
  {
   "cell_type": "code",
   "execution_count": 22,
   "id": "2c98c283",
   "metadata": {},
   "outputs": [
    {
     "data": {
      "text/html": [
       "<div>\n",
       "<style scoped>\n",
       "    .dataframe tbody tr th:only-of-type {\n",
       "        vertical-align: middle;\n",
       "    }\n",
       "\n",
       "    .dataframe tbody tr th {\n",
       "        vertical-align: top;\n",
       "    }\n",
       "\n",
       "    .dataframe thead th {\n",
       "        text-align: right;\n",
       "    }\n",
       "</style>\n",
       "<table border=\"1\" class=\"dataframe\">\n",
       "  <thead>\n",
       "    <tr style=\"text-align: right;\">\n",
       "      <th></th>\n",
       "      <th>pickup_hour</th>\n",
       "    </tr>\n",
       "    <tr>\n",
       "      <th>pickup_weekday</th>\n",
       "      <th></th>\n",
       "    </tr>\n",
       "  </thead>\n",
       "  <tbody>\n",
       "    <tr>\n",
       "      <th>0</th>\n",
       "      <td>18</td>\n",
       "    </tr>\n",
       "    <tr>\n",
       "      <th>1</th>\n",
       "      <td>18</td>\n",
       "    </tr>\n",
       "    <tr>\n",
       "      <th>2</th>\n",
       "      <td>19</td>\n",
       "    </tr>\n",
       "    <tr>\n",
       "      <th>3</th>\n",
       "      <td>21</td>\n",
       "    </tr>\n",
       "    <tr>\n",
       "      <th>4</th>\n",
       "      <td>19</td>\n",
       "    </tr>\n",
       "    <tr>\n",
       "      <th>5</th>\n",
       "      <td>23</td>\n",
       "    </tr>\n",
       "    <tr>\n",
       "      <th>6</th>\n",
       "      <td>0</td>\n",
       "    </tr>\n",
       "  </tbody>\n",
       "</table>\n",
       "</div>"
      ],
      "text/plain": [
       "                pickup_hour\n",
       "pickup_weekday             \n",
       "0                        18\n",
       "1                        18\n",
       "2                        19\n",
       "3                        21\n",
       "4                        19\n",
       "5                        23\n",
       "6                         0"
      ]
     },
     "execution_count": 22,
     "metadata": {},
     "output_type": "execute_result"
    }
   ],
   "source": [
    "peak_hour_of_day"
   ]
  },
  {
   "cell_type": "markdown",
   "id": "d3d5d379",
   "metadata": {},
   "source": [
    "On a Monday most people pickup at 6pm <br>\n",
    "On a Tuesday most people pickup at 6pm <br>\n",
    "On a Wednesday most people pickup at 7pm <br>\n",
    "On a Thursday most people pickup at 9pm <br>\n",
    "On a Friday most people pickup at 7pm <br>\n",
    "On a Saturday most people pickup at 11pm <br>\n",
    "On a Sunday most people pickup at 12am"
   ]
  },
  {
   "cell_type": "code",
   "execution_count": 23,
   "id": "638a2648",
   "metadata": {},
   "outputs": [
    {
     "name": "stderr",
     "output_type": "stream",
     "text": [
      "/home/siyabonga/.local/lib/python3.8/site-packages/seaborn/distributions.py:2551: FutureWarning: `distplot` is a deprecated function and will be removed in a future version. Please adapt your code to use either `displot` (a figure-level function with similar flexibility) or `histplot` (an axes-level function for histograms).\n",
      "  warnings.warn(msg, FutureWarning)\n"
     ]
    },
    {
     "data": {
      "image/png": "[encoded data removed]",
      "text/plain": [
       "<Figure size 1440x360 with 1 Axes>"
      ]
     },
     "metadata": {},
     "output_type": "display_data"
    }
   ],
   "source": [
    "plot_distribution(df[['pickup_hour']], cols=3, width=20, height=5, hspace=0.5, wspace=0.5)"
   ]
  },
  {
   "cell_type": "markdown",
   "id": "4144f95e",
   "metadata": {},
   "source": [
    "Most people pickup at 6pm <br>\n",
    "This can be due to that most people are coming back from work at that time"
   ]
  },
  {
   "cell_type": "markdown",
   "id": "d11089e9",
   "metadata": {},
   "source": [
    "### QUestion 1.3.3"
   ]
  },
  {
   "cell_type": "code",
   "execution_count": 24,
   "id": "ac5e834d",
   "metadata": {},
   "outputs": [],
   "source": [
    "hours_in_day = df.groupby('pickup_weekday')['pickup_hour'].apply(list)"
   ]
  },
  {
   "cell_type": "markdown",
   "id": "d179e120",
   "metadata": {},
   "source": [
    "Weekdays"
   ]
  },
  {
   "cell_type": "code",
   "execution_count": 25,
   "id": "7341fe3d",
   "metadata": {
    "scrolled": true
   },
   "outputs": [
    {
     "data": {
      "text/plain": [
       "<matplotlib.legend.Legend at 0x7ff0da3c5d00>"
      ]
     },
     "execution_count": 25,
     "metadata": {},
     "output_type": "execute_result"
    },
    {
     "data": {
      "image/png": "[encoded data removed]",
      "text/plain": [
       "<Figure size 432x288 with 1 Axes>"
      ]
     },
     "metadata": {},
     "output_type": "display_data"
    }
   ],
   "source": [
    "plt.hist(hours_in_day[0], 24,label='Mon',alpha = 0.5)\n",
    "plt.hist(hours_in_day[1], 24,label='Tues',alpha = 0.5)\n",
    "plt.hist(hours_in_day[2], 24,label='Wednes',alpha = 0.5)\n",
    "plt.hist(hours_in_day[3], 24,label='Thurs',alpha = 0.5)\n",
    "plt.hist(hours_in_day[4], 24,label='Fri',alpha = 0.5)\n",
    "plt.legend()"
   ]
  },
  {
   "cell_type": "markdown",
   "id": "3ec30377",
   "metadata": {},
   "source": [
    "Weekends"
   ]
  },
  {
   "cell_type": "code",
   "execution_count": 27,
   "id": "d59a1afb",
   "metadata": {},
   "outputs": [
    {
     "data": {
      "text/plain": [
       "<matplotlib.legend.Legend at 0x7ff0f2cf1be0>"
      ]
     },
     "execution_count": 27,
     "metadata": {},
     "output_type": "execute_result"
    },
    {
     "data": {
      "image/png": "[encoded data removed]",
      "text/plain": [
       "<Figure size 432x288 with 1 Axes>"
      ]
     },
     "metadata": {},
     "output_type": "display_data"
    }
   ],
   "source": [
    "plt.hist(hours_in_day[5], 24,label='Sat',alpha = 0.5)\n",
    "plt.hist(hours_in_day[6], 24,label='Sun',alpha = 0.5)\n",
    "plt.legend()"
   ]
  },
  {
   "cell_type": "markdown",
   "id": "824dc1bb",
   "metadata": {},
   "source": [
    "Weekday VS Weekend"
   ]
  },
  {
   "cell_type": "code",
   "execution_count": 28,
   "id": "e257c96c",
   "metadata": {},
   "outputs": [
    {
     "data": {
      "text/plain": [
       "<matplotlib.legend.Legend at 0x7ff0da16b7c0>"
      ]
     },
     "execution_count": 28,
     "metadata": {},
     "output_type": "execute_result"
    },
    {
     "data": {
      "image/png": "[encoded data removed]",
      "text/plain": [
       "<Figure size 432x288 with 1 Axes>"
      ]
     },
     "metadata": {},
     "output_type": "display_data"
    }
   ],
   "source": [
    "plt.hist(hours_in_day[0], 24,label='Mon',alpha = 0.5)\n",
    "plt.hist(hours_in_day[5], 24,label='Sat',alpha = 0.5)\n",
    "plt.legend()"
   ]
  },
  {
   "cell_type": "markdown",
   "id": "8aef9ac3",
   "metadata": {},
   "source": [
    "On weekends most people like to pickup at early Morning 12am to 5am. <br>\n",
    "Saturday is similar to weekdays but there are more pickups in the early hours 12am to 5am <br>\n",
    "On Sunday after 6pm most people don't pickup anymore. <br>\n",
    "The early pickups on weekend might be due to people traveling to vist there families.\n",
    "We can also see that not much pickups happen at 5am to 10am at the weekends, this can be due to people not going to work."
   ]
  },
  {
   "cell_type": "markdown",
   "id": "e114aadc",
   "metadata": {},
   "source": [
    "### Question 1.3.4"
   ]
  },
  {
   "cell_type": "code",
   "execution_count": 29,
   "id": "c28aa4a2",
   "metadata": {},
   "outputs": [],
   "source": [
    "cal = calendar()\n",
    "Holidays = cal.holidays(start=df['pickup_datetime'].min(), end=df['pickup_datetime'].max())\n",
    "df['Holiday'] = df['pickup_datetime'].dt.date.astype('datetime64').isin(Holidays)"
   ]
  },
  {
   "cell_type": "code",
   "execution_count": 30,
   "id": "5f109e9f",
   "metadata": {},
   "outputs": [
    {
     "data": {
      "text/plain": [
       "DatetimeIndex(['2016-01-18', '2016-02-15', '2016-05-30'], dtype='datetime64[ns]', freq=None)"
      ]
     },
     "execution_count": 30,
     "metadata": {},
     "output_type": "execute_result"
    }
   ],
   "source": [
    "Holidays"
   ]
  },
  {
   "cell_type": "code",
   "execution_count": 31,
   "id": "a3f4fc80",
   "metadata": {},
   "outputs": [
    {
     "data": {
      "text/html": [
       "<div>\n",
       "<style scoped>\n",
       "    .dataframe tbody tr th:only-of-type {\n",
       "        vertical-align: middle;\n",
       "    }\n",
       "\n",
       "    .dataframe tbody tr th {\n",
       "        vertical-align: top;\n",
       "    }\n",
       "\n",
       "    .dataframe thead th {\n",
       "        text-align: right;\n",
       "    }\n",
       "</style>\n",
       "<table border=\"1\" class=\"dataframe\">\n",
       "  <thead>\n",
       "    <tr style=\"text-align: right;\">\n",
       "      <th></th>\n",
       "      <th>vendor_id</th>\n",
       "      <th>pickup_datetime</th>\n",
       "      <th>dropoff_datetime</th>\n",
       "      <th>passenger_count</th>\n",
       "      <th>pickup_longitude</th>\n",
       "      <th>pickup_latitude</th>\n",
       "      <th>dropoff_longitude</th>\n",
       "      <th>dropoff_latitude</th>\n",
       "      <th>store_and_fwd_flag</th>\n",
       "      <th>trip_duration</th>\n",
       "      <th>trip_dist</th>\n",
       "      <th>pickup_weekday</th>\n",
       "      <th>dropoff_weekday</th>\n",
       "      <th>ave_speed</th>\n",
       "      <th>pickup_hour</th>\n",
       "      <th>Holiday</th>\n",
       "    </tr>\n",
       "    <tr>\n",
       "      <th>id</th>\n",
       "      <th></th>\n",
       "      <th></th>\n",
       "      <th></th>\n",
       "      <th></th>\n",
       "      <th></th>\n",
       "      <th></th>\n",
       "      <th></th>\n",
       "      <th></th>\n",
       "      <th></th>\n",
       "      <th></th>\n",
       "      <th></th>\n",
       "      <th></th>\n",
       "      <th></th>\n",
       "      <th></th>\n",
       "      <th></th>\n",
       "      <th></th>\n",
       "    </tr>\n",
       "  </thead>\n",
       "  <tbody>\n",
       "    <tr>\n",
       "      <th>id2875421</th>\n",
       "      <td>2</td>\n",
       "      <td>2016-03-14 17:24:55</td>\n",
       "      <td>2016-03-14 17:32:30</td>\n",
       "      <td>1</td>\n",
       "      <td>-73.982155</td>\n",
       "      <td>40.767937</td>\n",
       "      <td>-73.964630</td>\n",
       "      <td>40.765602</td>\n",
       "      <td>N</td>\n",
       "      <td>455</td>\n",
       "      <td>0.017680</td>\n",
       "      <td>0</td>\n",
       "      <td>0</td>\n",
       "      <td>39.0</td>\n",
       "      <td>17</td>\n",
       "      <td>False</td>\n",
       "    </tr>\n",
       "    <tr>\n",
       "      <th>id2377394</th>\n",
       "      <td>1</td>\n",
       "      <td>2016-06-12 00:43:35</td>\n",
       "      <td>2016-06-12 00:54:38</td>\n",
       "      <td>1</td>\n",
       "      <td>-73.980415</td>\n",
       "      <td>40.738564</td>\n",
       "      <td>-73.999481</td>\n",
       "      <td>40.731152</td>\n",
       "      <td>N</td>\n",
       "      <td>663</td>\n",
       "      <td>0.020456</td>\n",
       "      <td>6</td>\n",
       "      <td>6</td>\n",
       "      <td>31.0</td>\n",
       "      <td>0</td>\n",
       "      <td>False</td>\n",
       "    </tr>\n",
       "    <tr>\n",
       "      <th>id3858529</th>\n",
       "      <td>2</td>\n",
       "      <td>2016-01-19 11:35:24</td>\n",
       "      <td>2016-01-19 12:10:48</td>\n",
       "      <td>1</td>\n",
       "      <td>-73.979027</td>\n",
       "      <td>40.763939</td>\n",
       "      <td>-74.005333</td>\n",
       "      <td>40.710087</td>\n",
       "      <td>N</td>\n",
       "      <td>2124</td>\n",
       "      <td>0.059934</td>\n",
       "      <td>1</td>\n",
       "      <td>1</td>\n",
       "      <td>28.0</td>\n",
       "      <td>11</td>\n",
       "      <td>False</td>\n",
       "    </tr>\n",
       "    <tr>\n",
       "      <th>id3504673</th>\n",
       "      <td>2</td>\n",
       "      <td>2016-04-06 19:32:31</td>\n",
       "      <td>2016-04-06 19:39:40</td>\n",
       "      <td>1</td>\n",
       "      <td>-74.010040</td>\n",
       "      <td>40.719971</td>\n",
       "      <td>-74.012268</td>\n",
       "      <td>40.706718</td>\n",
       "      <td>N</td>\n",
       "      <td>429</td>\n",
       "      <td>0.013438</td>\n",
       "      <td>2</td>\n",
       "      <td>2</td>\n",
       "      <td>31.0</td>\n",
       "      <td>19</td>\n",
       "      <td>False</td>\n",
       "    </tr>\n",
       "    <tr>\n",
       "      <th>id2181028</th>\n",
       "      <td>2</td>\n",
       "      <td>2016-03-26 13:30:55</td>\n",
       "      <td>2016-03-26 13:38:10</td>\n",
       "      <td>1</td>\n",
       "      <td>-73.973053</td>\n",
       "      <td>40.793209</td>\n",
       "      <td>-73.972923</td>\n",
       "      <td>40.782520</td>\n",
       "      <td>N</td>\n",
       "      <td>435</td>\n",
       "      <td>0.010690</td>\n",
       "      <td>5</td>\n",
       "      <td>5</td>\n",
       "      <td>25.0</td>\n",
       "      <td>13</td>\n",
       "      <td>False</td>\n",
       "    </tr>\n",
       "  </tbody>\n",
       "</table>\n",
       "</div>"
      ],
      "text/plain": [
       "           vendor_id     pickup_datetime    dropoff_datetime  passenger_count  \\\n",
       "id                                                                              \n",
       "id2875421          2 2016-03-14 17:24:55 2016-03-14 17:32:30                1   \n",
       "id2377394          1 2016-06-12 00:43:35 2016-06-12 00:54:38                1   \n",
       "id3858529          2 2016-01-19 11:35:24 2016-01-19 12:10:48                1   \n",
       "id3504673          2 2016-04-06 19:32:31 2016-04-06 19:39:40                1   \n",
       "id2181028          2 2016-03-26 13:30:55 2016-03-26 13:38:10                1   \n",
       "\n",
       "           pickup_longitude  pickup_latitude  dropoff_longitude  \\\n",
       "id                                                                \n",
       "id2875421        -73.982155        40.767937         -73.964630   \n",
       "id2377394        -73.980415        40.738564         -73.999481   \n",
       "id3858529        -73.979027        40.763939         -74.005333   \n",
       "id3504673        -74.010040        40.719971         -74.012268   \n",
       "id2181028        -73.973053        40.793209         -73.972923   \n",
       "\n",
       "           dropoff_latitude store_and_fwd_flag  trip_duration  trip_dist  \\\n",
       "id                                                                         \n",
       "id2875421         40.765602                  N            455   0.017680   \n",
       "id2377394         40.731152                  N            663   0.020456   \n",
       "id3858529         40.710087                  N           2124   0.059934   \n",
       "id3504673         40.706718                  N            429   0.013438   \n",
       "id2181028         40.782520                  N            435   0.010690   \n",
       "\n",
       "           pickup_weekday  dropoff_weekday  ave_speed  pickup_hour  Holiday  \n",
       "id                                                                           \n",
       "id2875421               0                0       39.0           17    False  \n",
       "id2377394               6                6       31.0            0    False  \n",
       "id3858529               1                1       28.0           11    False  \n",
       "id3504673               2                2       31.0           19    False  \n",
       "id2181028               5                5       25.0           13    False  "
      ]
     },
     "execution_count": 31,
     "metadata": {},
     "output_type": "execute_result"
    }
   ],
   "source": [
    "df.head()"
   ]
  },
  {
   "cell_type": "code",
   "execution_count": 32,
   "id": "d6189b05",
   "metadata": {},
   "outputs": [],
   "source": [
    "Holidays_df = df[df['Holiday'] == True]"
   ]
  },
  {
   "cell_type": "code",
   "execution_count": 33,
   "id": "7c8e7116",
   "metadata": {},
   "outputs": [
    {
     "data": {
      "text/html": [
       "<div>\n",
       "<style scoped>\n",
       "    .dataframe tbody tr th:only-of-type {\n",
       "        vertical-align: middle;\n",
       "    }\n",
       "\n",
       "    .dataframe tbody tr th {\n",
       "        vertical-align: top;\n",
       "    }\n",
       "\n",
       "    .dataframe thead th {\n",
       "        text-align: right;\n",
       "    }\n",
       "</style>\n",
       "<table border=\"1\" class=\"dataframe\">\n",
       "  <thead>\n",
       "    <tr style=\"text-align: right;\">\n",
       "      <th></th>\n",
       "      <th>vendor_id</th>\n",
       "      <th>pickup_datetime</th>\n",
       "      <th>dropoff_datetime</th>\n",
       "      <th>passenger_count</th>\n",
       "      <th>pickup_longitude</th>\n",
       "      <th>pickup_latitude</th>\n",
       "      <th>dropoff_longitude</th>\n",
       "      <th>dropoff_latitude</th>\n",
       "      <th>store_and_fwd_flag</th>\n",
       "      <th>trip_duration</th>\n",
       "      <th>trip_dist</th>\n",
       "      <th>pickup_weekday</th>\n",
       "      <th>dropoff_weekday</th>\n",
       "      <th>ave_speed</th>\n",
       "      <th>pickup_hour</th>\n",
       "      <th>Holiday</th>\n",
       "    </tr>\n",
       "    <tr>\n",
       "      <th>id</th>\n",
       "      <th></th>\n",
       "      <th></th>\n",
       "      <th></th>\n",
       "      <th></th>\n",
       "      <th></th>\n",
       "      <th></th>\n",
       "      <th></th>\n",
       "      <th></th>\n",
       "      <th></th>\n",
       "      <th></th>\n",
       "      <th></th>\n",
       "      <th></th>\n",
       "      <th></th>\n",
       "      <th></th>\n",
       "      <th></th>\n",
       "      <th></th>\n",
       "    </tr>\n",
       "  </thead>\n",
       "  <tbody>\n",
       "    <tr>\n",
       "      <th>id0675800</th>\n",
       "      <td>2</td>\n",
       "      <td>2016-02-15 09:25:15</td>\n",
       "      <td>2016-02-15 09:35:49</td>\n",
       "      <td>6</td>\n",
       "      <td>-73.977753</td>\n",
       "      <td>40.754631</td>\n",
       "      <td>-74.001678</td>\n",
       "      <td>40.756420</td>\n",
       "      <td>N</td>\n",
       "      <td>634</td>\n",
       "      <td>0.023993</td>\n",
       "      <td>0</td>\n",
       "      <td>0</td>\n",
       "      <td>38.0</td>\n",
       "      <td>9</td>\n",
       "      <td>True</td>\n",
       "    </tr>\n",
       "    <tr>\n",
       "      <th>id2648478</th>\n",
       "      <td>1</td>\n",
       "      <td>2016-01-18 11:13:59</td>\n",
       "      <td>2016-01-18 11:18:56</td>\n",
       "      <td>1</td>\n",
       "      <td>-73.951576</td>\n",
       "      <td>40.766468</td>\n",
       "      <td>-73.960213</td>\n",
       "      <td>40.760540</td>\n",
       "      <td>N</td>\n",
       "      <td>297</td>\n",
       "      <td>0.010475</td>\n",
       "      <td>0</td>\n",
       "      <td>0</td>\n",
       "      <td>35.0</td>\n",
       "      <td>11</td>\n",
       "      <td>True</td>\n",
       "    </tr>\n",
       "    <tr>\n",
       "      <th>id1674373</th>\n",
       "      <td>2</td>\n",
       "      <td>2016-02-15 17:52:27</td>\n",
       "      <td>2016-02-15 18:02:13</td>\n",
       "      <td>5</td>\n",
       "      <td>-74.007500</td>\n",
       "      <td>40.740952</td>\n",
       "      <td>-74.016647</td>\n",
       "      <td>40.704910</td>\n",
       "      <td>N</td>\n",
       "      <td>586</td>\n",
       "      <td>0.037184</td>\n",
       "      <td>0</td>\n",
       "      <td>0</td>\n",
       "      <td>63.0</td>\n",
       "      <td>17</td>\n",
       "      <td>True</td>\n",
       "    </tr>\n",
       "    <tr>\n",
       "      <th>id2677357</th>\n",
       "      <td>2</td>\n",
       "      <td>2016-02-15 16:36:19</td>\n",
       "      <td>2016-02-15 16:41:50</td>\n",
       "      <td>2</td>\n",
       "      <td>-73.971634</td>\n",
       "      <td>40.781963</td>\n",
       "      <td>-73.981689</td>\n",
       "      <td>40.778996</td>\n",
       "      <td>N</td>\n",
       "      <td>331</td>\n",
       "      <td>0.010484</td>\n",
       "      <td>0</td>\n",
       "      <td>0</td>\n",
       "      <td>32.0</td>\n",
       "      <td>16</td>\n",
       "      <td>True</td>\n",
       "    </tr>\n",
       "    <tr>\n",
       "      <th>id3013319</th>\n",
       "      <td>2</td>\n",
       "      <td>2016-02-15 22:28:54</td>\n",
       "      <td>2016-02-15 22:30:27</td>\n",
       "      <td>1</td>\n",
       "      <td>-73.981400</td>\n",
       "      <td>40.778793</td>\n",
       "      <td>-73.976524</td>\n",
       "      <td>40.782497</td>\n",
       "      <td>N</td>\n",
       "      <td>93</td>\n",
       "      <td>0.006123</td>\n",
       "      <td>0</td>\n",
       "      <td>0</td>\n",
       "      <td>66.0</td>\n",
       "      <td>22</td>\n",
       "      <td>True</td>\n",
       "    </tr>\n",
       "  </tbody>\n",
       "</table>\n",
       "</div>"
      ],
      "text/plain": [
       "           vendor_id     pickup_datetime    dropoff_datetime  passenger_count  \\\n",
       "id                                                                              \n",
       "id0675800          2 2016-02-15 09:25:15 2016-02-15 09:35:49                6   \n",
       "id2648478          1 2016-01-18 11:13:59 2016-01-18 11:18:56                1   \n",
       "id1674373          2 2016-02-15 17:52:27 2016-02-15 18:02:13                5   \n",
       "id2677357          2 2016-02-15 16:36:19 2016-02-15 16:41:50                2   \n",
       "id3013319          2 2016-02-15 22:28:54 2016-02-15 22:30:27                1   \n",
       "\n",
       "           pickup_longitude  pickup_latitude  dropoff_longitude  \\\n",
       "id                                                                \n",
       "id0675800        -73.977753        40.754631         -74.001678   \n",
       "id2648478        -73.951576        40.766468         -73.960213   \n",
       "id1674373        -74.007500        40.740952         -74.016647   \n",
       "id2677357        -73.971634        40.781963         -73.981689   \n",
       "id3013319        -73.981400        40.778793         -73.976524   \n",
       "\n",
       "           dropoff_latitude store_and_fwd_flag  trip_duration  trip_dist  \\\n",
       "id                                                                         \n",
       "id0675800         40.756420                  N            634   0.023993   \n",
       "id2648478         40.760540                  N            297   0.010475   \n",
       "id1674373         40.704910                  N            586   0.037184   \n",
       "id2677357         40.778996                  N            331   0.010484   \n",
       "id3013319         40.782497                  N             93   0.006123   \n",
       "\n",
       "           pickup_weekday  dropoff_weekday  ave_speed  pickup_hour  Holiday  \n",
       "id                                                                           \n",
       "id0675800               0                0       38.0            9     True  \n",
       "id2648478               0                0       35.0           11     True  \n",
       "id1674373               0                0       63.0           17     True  \n",
       "id2677357               0                0       32.0           16     True  \n",
       "id3013319               0                0       66.0           22     True  "
      ]
     },
     "execution_count": 33,
     "metadata": {},
     "output_type": "execute_result"
    }
   ],
   "source": [
    "Holidays_df.head()"
   ]
  },
  {
   "cell_type": "code",
   "execution_count": 38,
   "id": "e95840b2",
   "metadata": {},
   "outputs": [],
   "source": [
    "hours_in_day_holidays = Holidays_df.groupby('pickup_weekday')['pickup_hour'].apply(list)"
   ]
  },
  {
   "cell_type": "code",
   "execution_count": 39,
   "id": "0e06d866",
   "metadata": {},
   "outputs": [
    {
     "data": {
      "text/plain": [
       "<matplotlib.legend.Legend at 0x7ff0f5b13f40>"
      ]
     },
     "execution_count": 39,
     "metadata": {},
     "output_type": "execute_result"
    },
    {
     "data": {
      "image/png": "[encoded data removed]",
      "text/plain": [
       "<Figure size 432x288 with 1 Axes>"
      ]
     },
     "metadata": {},
     "output_type": "display_data"
    }
   ],
   "source": [
    "plt.hist(hours_in_day_holidays[0], 24,label='Mon_Holiday',alpha = 0.5)\n",
    "plt.hist(hours_in_day[0], 24,label='Mon_regular',alpha = 0.5)\n",
    "plt.legend()"
   ]
  },
  {
   "cell_type": "markdown",
   "id": "6829ee4e",
   "metadata": {},
   "source": [
    "Compared to a noraml Monday, the one on Holiday indicate that they are far less pickups then normal. <br>\n",
    "This shows that most people don't work or travel on Holidays"
   ]
  },
  {
   "cell_type": "markdown",
   "id": "6847ac25",
   "metadata": {},
   "source": [
    "### Question 1.3.5"
   ]
  },
  {
   "cell_type": "code",
   "execution_count": 40,
   "id": "2db36410",
   "metadata": {},
   "outputs": [],
   "source": [
    "day_speed = df[['pickup_datetime','ave_speed']]"
   ]
  },
  {
   "cell_type": "code",
   "execution_count": 41,
   "id": "084b2d36",
   "metadata": {},
   "outputs": [
    {
     "data": {
      "text/html": [
       "<div>\n",
       "<style scoped>\n",
       "    .dataframe tbody tr th:only-of-type {\n",
       "        vertical-align: middle;\n",
       "    }\n",
       "\n",
       "    .dataframe tbody tr th {\n",
       "        vertical-align: top;\n",
       "    }\n",
       "\n",
       "    .dataframe thead th {\n",
       "        text-align: right;\n",
       "    }\n",
       "</style>\n",
       "<table border=\"1\" class=\"dataframe\">\n",
       "  <thead>\n",
       "    <tr style=\"text-align: right;\">\n",
       "      <th></th>\n",
       "      <th>pickup_datetime</th>\n",
       "      <th>ave_speed</th>\n",
       "    </tr>\n",
       "    <tr>\n",
       "      <th>id</th>\n",
       "      <th></th>\n",
       "      <th></th>\n",
       "    </tr>\n",
       "  </thead>\n",
       "  <tbody>\n",
       "    <tr>\n",
       "      <th>id2875421</th>\n",
       "      <td>2016-03-14 17:24:55</td>\n",
       "      <td>39.0</td>\n",
       "    </tr>\n",
       "    <tr>\n",
       "      <th>id2377394</th>\n",
       "      <td>2016-06-12 00:43:35</td>\n",
       "      <td>31.0</td>\n",
       "    </tr>\n",
       "    <tr>\n",
       "      <th>id3858529</th>\n",
       "      <td>2016-01-19 11:35:24</td>\n",
       "      <td>28.0</td>\n",
       "    </tr>\n",
       "    <tr>\n",
       "      <th>id3504673</th>\n",
       "      <td>2016-04-06 19:32:31</td>\n",
       "      <td>31.0</td>\n",
       "    </tr>\n",
       "    <tr>\n",
       "      <th>id2181028</th>\n",
       "      <td>2016-03-26 13:30:55</td>\n",
       "      <td>25.0</td>\n",
       "    </tr>\n",
       "  </tbody>\n",
       "</table>\n",
       "</div>"
      ],
      "text/plain": [
       "              pickup_datetime  ave_speed\n",
       "id                                      \n",
       "id2875421 2016-03-14 17:24:55       39.0\n",
       "id2377394 2016-06-12 00:43:35       31.0\n",
       "id3858529 2016-01-19 11:35:24       28.0\n",
       "id3504673 2016-04-06 19:32:31       31.0\n",
       "id2181028 2016-03-26 13:30:55       25.0"
      ]
     },
     "execution_count": 41,
     "metadata": {},
     "output_type": "execute_result"
    }
   ],
   "source": [
    "day_speed.head()"
   ]
  },
  {
   "cell_type": "code",
   "execution_count": 42,
   "id": "d19492e4",
   "metadata": {},
   "outputs": [
    {
     "data": {
      "text/html": [
       "<div>\n",
       "<style scoped>\n",
       "    .dataframe tbody tr th:only-of-type {\n",
       "        vertical-align: middle;\n",
       "    }\n",
       "\n",
       "    .dataframe tbody tr th {\n",
       "        vertical-align: top;\n",
       "    }\n",
       "\n",
       "    .dataframe thead th {\n",
       "        text-align: right;\n",
       "    }\n",
       "</style>\n",
       "<table border=\"1\" class=\"dataframe\">\n",
       "  <thead>\n",
       "    <tr style=\"text-align: right;\">\n",
       "      <th></th>\n",
       "      <th>ave_speed</th>\n",
       "    </tr>\n",
       "    <tr>\n",
       "      <th>pickup_datetime</th>\n",
       "      <th></th>\n",
       "    </tr>\n",
       "  </thead>\n",
       "  <tbody>\n",
       "    <tr>\n",
       "      <th>2016-01-01 00:00:00</th>\n",
       "      <td>43.208791</td>\n",
       "    </tr>\n",
       "    <tr>\n",
       "      <th>2016-01-01 01:00:00</th>\n",
       "      <td>43.692580</td>\n",
       "    </tr>\n",
       "    <tr>\n",
       "      <th>2016-01-01 02:00:00</th>\n",
       "      <td>46.359841</td>\n",
       "    </tr>\n",
       "    <tr>\n",
       "      <th>2016-01-01 03:00:00</th>\n",
       "      <td>48.455115</td>\n",
       "    </tr>\n",
       "    <tr>\n",
       "      <th>2016-01-01 04:00:00</th>\n",
       "      <td>50.928793</td>\n",
       "    </tr>\n",
       "  </tbody>\n",
       "</table>\n",
       "</div>"
      ],
      "text/plain": [
       "                     ave_speed\n",
       "pickup_datetime               \n",
       "2016-01-01 00:00:00  43.208791\n",
       "2016-01-01 01:00:00  43.692580\n",
       "2016-01-01 02:00:00  46.359841\n",
       "2016-01-01 03:00:00  48.455115\n",
       "2016-01-01 04:00:00  50.928793"
      ]
     },
     "execution_count": 42,
     "metadata": {},
     "output_type": "execute_result"
    }
   ],
   "source": [
    "day_speed_df = day_speed.groupby(pd.Grouper(key='pickup_datetime', freq='60min')).mean().dropna()\n",
    "day_speed_df.head()"
   ]
  },
  {
   "cell_type": "code",
   "execution_count": 43,
   "id": "d3e3d377",
   "metadata": {},
   "outputs": [
    {
     "data": {
      "text/plain": [
       "([<matplotlib.axis.XTick at 0x7ff0cc0cd970>,\n",
       "  <matplotlib.axis.XTick at 0x7ff0cc0cd940>,\n",
       "  <matplotlib.axis.XTick at 0x7ff0cc0a8d00>,\n",
       "  <matplotlib.axis.XTick at 0x7ff0c4279130>,\n",
       "  <matplotlib.axis.XTick at 0x7ff0c4279880>,\n",
       "  <matplotlib.axis.XTick at 0x7ff0c4279430>,\n",
       "  <matplotlib.axis.XTick at 0x7ff0c42731f0>,\n",
       "  <matplotlib.axis.XTick at 0x7ff0cc09b040>,\n",
       "  <matplotlib.axis.XTick at 0x7ff0c426c0a0>,\n",
       "  <matplotlib.axis.XTick at 0x7ff0c426c730>,\n",
       "  <matplotlib.axis.XTick at 0x7ff0c426ce80>,\n",
       "  <matplotlib.axis.XTick at 0x7ff0c426c760>,\n",
       "  <matplotlib.axis.XTick at 0x7ff0c4273910>,\n",
       "  <matplotlib.axis.XTick at 0x7ff0c42664f0>,\n",
       "  <matplotlib.axis.XTick at 0x7ff0c4266c40>,\n",
       "  <matplotlib.axis.XTick at 0x7ff0c425d3d0>,\n",
       "  <matplotlib.axis.XTick at 0x7ff0c425db20>,\n",
       "  <matplotlib.axis.XTick at 0x7ff0c42582b0>,\n",
       "  <matplotlib.axis.XTick at 0x7ff0c425d7c0>,\n",
       "  <matplotlib.axis.XTick at 0x7ff0c4266430>,\n",
       "  <matplotlib.axis.XTick at 0x7ff0c42581f0>,\n",
       "  <matplotlib.axis.XTick at 0x7ff0c4258df0>,\n",
       "  <matplotlib.axis.XTick at 0x7ff0c424d580>,\n",
       "  <matplotlib.axis.XTick at 0x7ff0c424dcd0>,\n",
       "  <matplotlib.axis.XTick at 0x7ff0da0ea460>,\n",
       "  <matplotlib.axis.XTick at 0x7ff0c424d880>,\n",
       "  <matplotlib.axis.XTick at 0x7ff0c4273ee0>,\n",
       "  <matplotlib.axis.XTick at 0x7ff0da0ea130>,\n",
       "  <matplotlib.axis.XTick at 0x7ff0da0df0a0>,\n",
       "  <matplotlib.axis.XTick at 0x7ff0da0df730>,\n",
       "  <matplotlib.axis.XTick at 0x7ff0da0dfe80>,\n",
       "  <matplotlib.axis.XTick at 0x7ff0da0d9610>,\n",
       "  <matplotlib.axis.XTick at 0x7ff0da0df670>,\n",
       "  <matplotlib.axis.XTick at 0x7ff0c4273760>,\n",
       "  <matplotlib.axis.XTick at 0x7ff0da0d9070>,\n",
       "  <matplotlib.axis.XTick at 0x7ff0da0d1190>,\n",
       "  <matplotlib.axis.XTick at 0x7ff0da0d18e0>,\n",
       "  <matplotlib.axis.XTick at 0x7ff0da0cc130>,\n",
       "  <matplotlib.axis.XTick at 0x7ff0da0cc7c0>,\n",
       "  <matplotlib.axis.XTick at 0x7ff0da0d1700>,\n",
       "  <matplotlib.axis.XTick at 0x7ff0c4258ac0>,\n",
       "  <matplotlib.axis.XTick at 0x7ff0da0cc0a0>,\n",
       "  <matplotlib.axis.XTick at 0x7ff0da0c2340>,\n",
       "  <matplotlib.axis.XTick at 0x7ff0da0c2a90>,\n",
       "  <matplotlib.axis.XTick at 0x7ff0da0bd250>,\n",
       "  <matplotlib.axis.XTick at 0x7ff0da0bd9a0>,\n",
       "  <matplotlib.axis.XTick at 0x7ff0da0c2730>,\n",
       "  <matplotlib.axis.XTick at 0x7ff0c424d160>,\n",
       "  <matplotlib.axis.XTick at 0x7ff0da0bd2b0>,\n",
       "  <matplotlib.axis.XTick at 0x7ff0da0b4520>,\n",
       "  <matplotlib.axis.XTick at 0x7ff0da0b4c70>,\n",
       "  <matplotlib.axis.XTick at 0x7ff0da0b1400>,\n",
       "  <matplotlib.axis.XTick at 0x7ff0da0b1b50>,\n",
       "  <matplotlib.axis.XTick at 0x7ff0da0b47f0>,\n",
       "  <matplotlib.axis.XTick at 0x7ff0da0bd430>,\n",
       "  <matplotlib.axis.XTick at 0x7ff0da0eaca0>,\n",
       "  <matplotlib.axis.XTick at 0x7ff0cc0bdeb0>,\n",
       "  <matplotlib.axis.XTick at 0x7ff0cc153160>,\n",
       "  <matplotlib.axis.XTick at 0x7ff0cc1537f0>,\n",
       "  <matplotlib.axis.XTick at 0x7ff0cc153f40>,\n",
       "  <matplotlib.axis.XTick at 0x7ff0cc153730>,\n",
       "  <matplotlib.axis.XTick at 0x7ff0da0ea790>,\n",
       "  <matplotlib.axis.XTick at 0x7ff0cc14e430>,\n",
       "  <matplotlib.axis.XTick at 0x7ff0cc14eac0>,\n",
       "  <matplotlib.axis.XTick at 0x7ff0cc145250>,\n",
       "  <matplotlib.axis.XTick at 0x7ff0cc1459a0>,\n",
       "  <matplotlib.axis.XTick at 0x7ff0cc13e130>,\n",
       "  <matplotlib.axis.XTick at 0x7ff0cc145970>,\n",
       "  <matplotlib.axis.XTick at 0x7ff0da0b44f0>,\n",
       "  <matplotlib.axis.XTick at 0x7ff0cc13e5e0>,\n",
       "  <matplotlib.axis.XTick at 0x7ff0cc13ec70>,\n",
       "  <matplotlib.axis.XTick at 0x7ff0cc136400>],\n",
       " [Text(0, 0, ''),\n",
       "  Text(0, 0, ''),\n",
       "  Text(0, 0, ''),\n",
       "  Text(0, 0, ''),\n",
       "  Text(0, 0, ''),\n",
       "  Text(0, 0, ''),\n",
       "  Text(0, 0, ''),\n",
       "  Text(0, 0, ''),\n",
       "  Text(0, 0, ''),\n",
       "  Text(0, 0, ''),\n",
       "  Text(0, 0, ''),\n",
       "  Text(0, 0, ''),\n",
       "  Text(0, 0, ''),\n",
       "  Text(0, 0, ''),\n",
       "  Text(0, 0, ''),\n",
       "  Text(0, 0, ''),\n",
       "  Text(0, 0, ''),\n",
       "  Text(0, 0, ''),\n",
       "  Text(0, 0, ''),\n",
       "  Text(0, 0, ''),\n",
       "  Text(0, 0, ''),\n",
       "  Text(0, 0, ''),\n",
       "  Text(0, 0, ''),\n",
       "  Text(0, 0, ''),\n",
       "  Text(0, 0, ''),\n",
       "  Text(0, 0, ''),\n",
       "  Text(0, 0, ''),\n",
       "  Text(0, 0, ''),\n",
       "  Text(0, 0, ''),\n",
       "  Text(0, 0, ''),\n",
       "  Text(0, 0, ''),\n",
       "  Text(0, 0, ''),\n",
       "  Text(0, 0, ''),\n",
       "  Text(0, 0, ''),\n",
       "  Text(0, 0, ''),\n",
       "  Text(0, 0, ''),\n",
       "  Text(0, 0, ''),\n",
       "  Text(0, 0, ''),\n",
       "  Text(0, 0, ''),\n",
       "  Text(0, 0, ''),\n",
       "  Text(0, 0, ''),\n",
       "  Text(0, 0, ''),\n",
       "  Text(0, 0, ''),\n",
       "  Text(0, 0, ''),\n",
       "  Text(0, 0, ''),\n",
       "  Text(0, 0, ''),\n",
       "  Text(0, 0, ''),\n",
       "  Text(0, 0, ''),\n",
       "  Text(0, 0, ''),\n",
       "  Text(0, 0, ''),\n",
       "  Text(0, 0, ''),\n",
       "  Text(0, 0, ''),\n",
       "  Text(0, 0, ''),\n",
       "  Text(0, 0, ''),\n",
       "  Text(0, 0, ''),\n",
       "  Text(0, 0, ''),\n",
       "  Text(0, 0, ''),\n",
       "  Text(0, 0, ''),\n",
       "  Text(0, 0, ''),\n",
       "  Text(0, 0, ''),\n",
       "  Text(0, 0, ''),\n",
       "  Text(0, 0, ''),\n",
       "  Text(0, 0, ''),\n",
       "  Text(0, 0, ''),\n",
       "  Text(0, 0, ''),\n",
       "  Text(0, 0, ''),\n",
       "  Text(0, 0, ''),\n",
       "  Text(0, 0, ''),\n",
       "  Text(0, 0, ''),\n",
       "  Text(0, 0, ''),\n",
       "  Text(0, 0, ''),\n",
       "  Text(0, 0, '')])"
      ]
     },
     "execution_count": 43,
     "metadata": {},
     "output_type": "execute_result"
    },
    {
     "data": {
      "image/png": "[encoded data removed]",
      "text/plain": [
       "<Figure size 1440x288 with 1 Axes>"
      ]
     },
     "metadata": {},
     "output_type": "display_data"
    }
   ],
   "source": [
    "plt.figure(figsize=(20, 4))\n",
    "plt.plot(day_speed_df.index[:24],day_speed_df.values[:24])\n",
    "plt.plot(day_speed_df.index[24:48],day_speed_df.values[24:48])\n",
    "plt.plot(day_speed_df.index[48:72],day_speed_df.values[48:72])\n",
    "plt.xticks(rotation=90)\n",
    "plt.xticks(day_speed_df.index[:72])"
   ]
  },
  {
   "cell_type": "markdown",
   "id": "378f1935",
   "metadata": {},
   "source": [
    "From the graphs it is seen that at around 5am to 8am the highest average speeds are archieved around 70 to 85. This can be caused by people rushing to work. <br>\n",
    "The slowest speeds are around 5pm to 8pm. This is when the taxis travel the slowest below 40. This can be due to traffic when everyone is returning from work and because people are not necessary in a rush when returning from work."
   ]
  },
  {
   "cell_type": "code",
   "execution_count": null,
   "id": "48d092e3",
   "metadata": {},
   "outputs": [],
   "source": []
  }
 ],
 "metadata": {
  "kernelspec": {
   "display_name": "Python 3",
   "language": "python",
   "name": "python3"
  },
  "language_info": {
   "codemirror_mode": {
    "name": "ipython",
    "version": 3
   },
   "file_extension": ".py",
   "mimetype": "text/x-python",
   "name": "python",
   "nbconvert_exporter": "python",
   "pygments_lexer": "ipython3",
   "version": "3.8.8"
  }
 },
 "nbformat": 4,
 "nbformat_minor": 5
}
