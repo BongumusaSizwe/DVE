{
 "cells": [
  {
   "cell_type": "code",
   "execution_count": 177,
   "id": "24123088-63f2-4212-b8be-8e60b0dc781f",
   "metadata": {},
   "outputs": [],
   "source": [
    "import pandas as pd\n",
    "import matplotlib.pyplot as plt\n",
    "%matplotlib inline"
   ]
  },
  {
   "cell_type": "code",
   "execution_count": 176,
   "id": "df4994a1-cddf-4d71-8b7d-0077aa9d07c3",
   "metadata": {},
   "outputs": [
    {
     "data": {
      "text/html": [
       "<div>\n",
       "<style scoped>\n",
       "    .dataframe tbody tr th:only-of-type {\n",
       "        vertical-align: middle;\n",
       "    }\n",
       "\n",
       "    .dataframe tbody tr th {\n",
       "        vertical-align: top;\n",
       "    }\n",
       "\n",
       "    .dataframe thead th {\n",
       "        text-align: right;\n",
       "    }\n",
       "</style>\n",
       "<table border=\"1\" class=\"dataframe\">\n",
       "  <thead>\n",
       "    <tr style=\"text-align: right;\">\n",
       "      <th></th>\n",
       "      <th>vendor_id</th>\n",
       "      <th>pickup_datetime</th>\n",
       "      <th>dropoff_datetime</th>\n",
       "      <th>passenger_count</th>\n",
       "      <th>pickup_longitude</th>\n",
       "      <th>pickup_latitude</th>\n",
       "      <th>dropoff_longitude</th>\n",
       "      <th>dropoff_latitude</th>\n",
       "      <th>store_and_fwd_flag</th>\n",
       "      <th>trip_duration</th>\n",
       "    </tr>\n",
       "    <tr>\n",
       "      <th>id</th>\n",
       "      <th></th>\n",
       "      <th></th>\n",
       "      <th></th>\n",
       "      <th></th>\n",
       "      <th></th>\n",
       "      <th></th>\n",
       "      <th></th>\n",
       "      <th></th>\n",
       "      <th></th>\n",
       "      <th></th>\n",
       "    </tr>\n",
       "  </thead>\n",
       "  <tbody>\n",
       "    <tr>\n",
       "      <th>id2875421</th>\n",
       "      <td>2</td>\n",
       "      <td>2016-03-14 17:24:55</td>\n",
       "      <td>2016-03-14 17:32:30</td>\n",
       "      <td>1</td>\n",
       "      <td>-73.982155</td>\n",
       "      <td>40.767937</td>\n",
       "      <td>-73.964630</td>\n",
       "      <td>40.765602</td>\n",
       "      <td>N</td>\n",
       "      <td>455</td>\n",
       "    </tr>\n",
       "    <tr>\n",
       "      <th>id2377394</th>\n",
       "      <td>1</td>\n",
       "      <td>2016-06-12 00:43:35</td>\n",
       "      <td>2016-06-12 00:54:38</td>\n",
       "      <td>1</td>\n",
       "      <td>-73.980415</td>\n",
       "      <td>40.738564</td>\n",
       "      <td>-73.999481</td>\n",
       "      <td>40.731152</td>\n",
       "      <td>N</td>\n",
       "      <td>663</td>\n",
       "    </tr>\n",
       "    <tr>\n",
       "      <th>id3858529</th>\n",
       "      <td>2</td>\n",
       "      <td>2016-01-19 11:35:24</td>\n",
       "      <td>2016-01-19 12:10:48</td>\n",
       "      <td>1</td>\n",
       "      <td>-73.979027</td>\n",
       "      <td>40.763939</td>\n",
       "      <td>-74.005333</td>\n",
       "      <td>40.710087</td>\n",
       "      <td>N</td>\n",
       "      <td>2124</td>\n",
       "    </tr>\n",
       "    <tr>\n",
       "      <th>id3504673</th>\n",
       "      <td>2</td>\n",
       "      <td>2016-04-06 19:32:31</td>\n",
       "      <td>2016-04-06 19:39:40</td>\n",
       "      <td>1</td>\n",
       "      <td>-74.010040</td>\n",
       "      <td>40.719971</td>\n",
       "      <td>-74.012268</td>\n",
       "      <td>40.706718</td>\n",
       "      <td>N</td>\n",
       "      <td>429</td>\n",
       "    </tr>\n",
       "    <tr>\n",
       "      <th>id2181028</th>\n",
       "      <td>2</td>\n",
       "      <td>2016-03-26 13:30:55</td>\n",
       "      <td>2016-03-26 13:38:10</td>\n",
       "      <td>1</td>\n",
       "      <td>-73.973053</td>\n",
       "      <td>40.793209</td>\n",
       "      <td>-73.972923</td>\n",
       "      <td>40.782520</td>\n",
       "      <td>N</td>\n",
       "      <td>435</td>\n",
       "    </tr>\n",
       "  </tbody>\n",
       "</table>\n",
       "</div>"
      ],
      "text/plain": [
       "           vendor_id      pickup_datetime     dropoff_datetime  \\\n",
       "id                                                               \n",
       "id2875421          2  2016-03-14 17:24:55  2016-03-14 17:32:30   \n",
       "id2377394          1  2016-06-12 00:43:35  2016-06-12 00:54:38   \n",
       "id3858529          2  2016-01-19 11:35:24  2016-01-19 12:10:48   \n",
       "id3504673          2  2016-04-06 19:32:31  2016-04-06 19:39:40   \n",
       "id2181028          2  2016-03-26 13:30:55  2016-03-26 13:38:10   \n",
       "\n",
       "           passenger_count  pickup_longitude  pickup_latitude  \\\n",
       "id                                                              \n",
       "id2875421                1        -73.982155        40.767937   \n",
       "id2377394                1        -73.980415        40.738564   \n",
       "id3858529                1        -73.979027        40.763939   \n",
       "id3504673                1        -74.010040        40.719971   \n",
       "id2181028                1        -73.973053        40.793209   \n",
       "\n",
       "           dropoff_longitude  dropoff_latitude store_and_fwd_flag  \\\n",
       "id                                                                  \n",
       "id2875421         -73.964630         40.765602                  N   \n",
       "id2377394         -73.999481         40.731152                  N   \n",
       "id3858529         -74.005333         40.710087                  N   \n",
       "id3504673         -74.012268         40.706718                  N   \n",
       "id2181028         -73.972923         40.782520                  N   \n",
       "\n",
       "           trip_duration  \n",
       "id                        \n",
       "id2875421            455  \n",
       "id2377394            663  \n",
       "id3858529           2124  \n",
       "id3504673            429  \n",
       "id2181028            435  "
      ]
     },
     "execution_count": 176,
     "metadata": {},
     "output_type": "execute_result"
    }
   ],
   "source": [
    "data = pd.read_csv('nyc_taxis.csv', delimiter=',', header=0, index_col=0)\n",
    "data.head(5)"
   ]
  },
  {
   "cell_type": "code",
   "execution_count": null,
   "id": "b33ba881-0bad-4bab-bc55-0cb9fdf72f0d",
   "metadata": {},
   "outputs": [],
   "source": [
    "pickup_datetime_update = data['pickup_datetime'].astype('datetime64[ns]')\n",
    "dropoff_datetime_update = data['dropoff_datetime'].astype('datetime64[ns]')\n",
    "data['pickup_datetime'] = pickup_datetime_update\n",
    "data['dropoff_datetime'] = dropoff_datetime_update\n",
    "pickup_time = data['pickup_datetime'][0]\n",
    "dropoff_time = data['dropoff_datetime'][0]\n",
    "\n",
    "def to_seconds(duration):\n",
    "    return duration.total_seconds()\n",
    "\n",
    "travel_time =  data['dropoff_datetime'].sub(data['pickup_datetime'], axis = 0)\n",
    "\n",
    "data['travel_time'] = travel_time\n",
    "\n",
    "data['travel_time'] = data['travel_time'].apply(to_seconds)\n",
    "\n",
    "data.head(5)"
   ]
  },
  {
   "cell_type": "code",
   "execution_count": null,
   "id": "072510b7-a543-4652-8620-42bd5e828d30",
   "metadata": {},
   "outputs": [],
   "source": [
    "# site to find coordinates of places\n",
    "# https://www.distancesto.com/coordinates/us/empire-state-building-latitude-longitude/history/477798.html"
   ]
  },
  {
   "cell_type": "code",
   "execution_count": null,
   "id": "1c0cbe37-53c1-49c0-b334-a1c790e52396",
   "metadata": {},
   "outputs": [],
   "source": [
    "import reverse_geocoder as rg\n",
    "import pprint\n",
    "\n",
    "def reverseGeocode(coordinates):\n",
    "    result = rg.search(coordinates)\n",
    "     \n",
    "    # result is a list containing ordered dictionary.\n",
    "    pprint.pprint(result)"
   ]
  },
  {
   "cell_type": "code",
   "execution_count": null,
   "id": "d4bd1b0a-93e2-40f9-840d-0b0f99980304",
   "metadata": {},
   "outputs": [],
   "source": [
    "# coordinates for Empire State Building\n",
    "reverseGeocode((40.748541, -73.985758))"
   ]
  },
  {
   "cell_type": "code",
   "execution_count": null,
   "id": "ff50640b-f635-425c-952b-1fa069143134",
   "metadata": {},
   "outputs": [],
   "source": [
    "# coordinates for JFK AIRPORT\n",
    "reverseGeocode((40.647352,  -73.790534))"
   ]
  },
  {
   "cell_type": "code",
   "execution_count": null,
   "id": "795e5c37-776f-45ae-be9c-72c59e4bc8b3",
   "metadata": {},
   "outputs": [],
   "source": [
    "# coordinates for NEWARK LIBERTY AIRPORT\n",
    "reverseGeocode((40.704197,  -74.190124))"
   ]
  },
  {
   "cell_type": "code",
   "execution_count": null,
   "id": "771c8c0f-a2b0-46a6-bf2b-736ca05ecbd8",
   "metadata": {},
   "outputs": [],
   "source": [
    "data_JFK = data[abs(data['pickup_latitude'] -  40.748541) <= 0.009999]\n",
    "data_JFK = data_JFK[abs(data_JFK['pickup_longitude'] + 73.985758) <= 0.009999]\n",
    "data_JFK = data_JFK[abs(data_JFK['dropoff_latitude'] - 40.647352) <= 0.009999]\n",
    "data_JFK = data_JFK[abs(data_JFK['dropoff_longitude'] + 73.790534) <= 0.009999]\n",
    "\n",
    "data_JFK"
   ]
  },
  {
   "cell_type": "code",
   "execution_count": null,
   "id": "6ae6c08a-a571-4e85-91e3-a5a390e5b7e5",
   "metadata": {},
   "outputs": [],
   "source": [
    "times = pd.DatetimeIndex(data_JFK.pickup_datetime)\n",
    "grouped_by_hour = data_JFK.groupby([times.hour]).mean()/(60*60)\n",
    "average_trip_time = list(grouped_by_hour['trip_duration'])\n",
    "pickup_hours = list(range(0, 24))"
   ]
  },
  {
   "cell_type": "code",
   "execution_count": null,
   "id": "d30b46b2-7287-4ff1-8550-f705cd69b3f3",
   "metadata": {},
   "outputs": [],
   "source": [
    "fig = plt.figure()\n",
    "ax = fig.add_axes([0,0,1,1])\n",
    "ax.bar(pickup_hours, average_trip_time)\n",
    "plt.grid(axis='y', alpha=0.75)\n",
    "plt.xlabel('Pickup hour',fontsize=15)\n",
    "plt.ylabel('Average trip duration in hours',fontsize=15)\n",
    "plt.title('Average trip time from Empire State Building TO JFK Airport against pickup hour',fontsize=15)\n",
    "plt.show()"
   ]
  },
  {
   "cell_type": "code",
   "execution_count": null,
   "id": "04f6a977-a628-4c88-8388-f49e48a465da",
   "metadata": {},
   "outputs": [],
   "source": [
    "data_Newark = data[abs(data['pickup_latitude'] -  40.748541) <= 0.009999]\n",
    "data_Newark = data_Newark[abs(data_Newark['pickup_longitude'] + 73.985758) <= 0.009999]\n",
    "data_Newark = data_Newark[abs(data_Newark['dropoff_latitude'] - 40.704197) <= 0.009999]\n",
    "data_Newark = data_Newark[abs(data_Newark['dropoff_longitude'] + 74.190124) <= 0.009999]\n",
    "\n",
    "data_Newark"
   ]
  },
  {
   "cell_type": "code",
   "execution_count": null,
   "id": "b6ef7a34-391b-44a1-ae8c-1f13d5ad4862",
   "metadata": {},
   "outputs": [],
   "source": [
    "times = pd.DatetimeIndex(data_Newark.pickup_datetime)\n",
    "grouped_by_hour = data_Newark.groupby([times.hour]).mean()/(60*60)\n",
    "average_trip_time_Newark = list(grouped_by_hour['trip_duration'])\n",
    "pickup_hours_Newark = list(grouped_by_hour.index)"
   ]
  },
  {
   "cell_type": "code",
   "execution_count": null,
   "id": "1223b968-85f2-48ec-9403-85ca55eadf62",
   "metadata": {},
   "outputs": [],
   "source": [
    "fig = plt.figure()\n",
    "ax = fig.add_axes([0,0,1,1])\n",
    "ax.bar(pickup_hours_Newark, average_trip_time_Newark)\n",
    "plt.grid(axis='y', alpha=0.75)\n",
    "plt.xlabel('Pickup hour',fontsize=15)\n",
    "plt.ylabel('Average trip duration in hours',fontsize=15)\n",
    "plt.title('Average trip time from Empire State Building TO Newark Airport against pickup hour',fontsize=15)\n",
    "plt.show()"
   ]
  },
  {
   "cell_type": "markdown",
   "id": "ef12e54b-02b9-4cc8-9336-73c8372ec173",
   "metadata": {},
   "source": [
    "### Comments:"
   ]
  },
  {
   "cell_type": "markdown",
   "id": "d4aa3574-3ccc-4564-8e55-5e0b7915ec72",
   "metadata": {},
   "source": [
    "The major difference is that there are always trips from Empire State Building to JFK Airport every hour. Whereas, this is not the case from Empire State Building to Newark Airport since some of the averages trip times in the second graph are zeros for several pickup hours. "
   ]
  }
 ],
 "metadata": {
  "kernelspec": {
   "display_name": "Python 3",
   "language": "python",
   "name": "python3"
  },
  "language_info": {
   "codemirror_mode": {
    "name": "ipython",
    "version": 3
   },
   "file_extension": ".py",
   "mimetype": "text/x-python",
   "name": "python",
   "nbconvert_exporter": "python",
   "pygments_lexer": "ipython3",
   "version": "3.8.10"
  }
 },
 "nbformat": 4,
 "nbformat_minor": 5
}
